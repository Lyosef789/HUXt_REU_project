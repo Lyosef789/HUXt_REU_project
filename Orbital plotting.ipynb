{
 "cells": [
  {
   "cell_type": "code",
   "execution_count": 1,
   "id": "2cb65d79-8fea-4356-89bd-a3fc0fc5dfba",
   "metadata": {},
   "outputs": [],
   "source": [
    "import sys\n",
    "#sys.path\n",
    "sys.path.append(\"/opt/homebrew/Caskroom/miniforge/base/envs/sunpy/lib/python3.11/site-packages/\")"
   ]
  },
  {
   "cell_type": "code",
   "execution_count": 2,
   "id": "dfba0871-b703-4833-9166-149104a0997a",
   "metadata": {},
   "outputs": [
    {
     "name": "stdout",
     "output_type": "stream",
     "text": [
      "INFO: Installing IAU_SUN PCK frame (10010) as 'spice_IAU_SUN' [sunpy.coordinates.spice]\n",
      "INFO: Creating ICRF frame with SUN (10) origin [sunpy.coordinates.spice]\n"
     ]
    }
   ],
   "source": [
    "import glob,datetime\n",
    "import sunpy.coordinates\n",
    "import numpy as np\n",
    "from sunpy.coordinates import spice,HeliographicStonyhurst, HeliographicCarrington\n",
    "import matplotlib.pyplot as plt\n",
    "import helpers as h\n",
    "kernel_files = glob.glob(\"./spice_data/*.bsp\")\n",
    "spice.initialize(kernel_files)\n",
    "spice.install_frame('IAU_SUN')\n",
    "plt.style.use(\"dark_background\")"
   ]
  },
  {
   "cell_type": "code",
   "execution_count": 3,
   "id": "7d887941-44bf-43b9-80a6-31fc66ea5fa9",
   "metadata": {},
   "outputs": [
    {
     "name": "stderr",
     "output_type": "stream",
     "text": [
      "17-Mar-25 20:25:30: /Users/lachmed/pyspedas/lib/python3.11/site-packages/tqdm/auto.py:21: TqdmWarning: IProgress not found. Please update jupyter and ipywidgets. See https://ipywidgets.readthedocs.io/en/stable/user_install.html\n",
      "  from .autonotebook import tqdm as notebook_tqdm\n",
      "\n"
     ]
    }
   ],
   "source": [
    "import pyspedas, pytplot\n",
    "import numpy as np\n",
    "import datetime\n",
    "import matplotlib.pyplot as plt\n",
    "import pandas as pd\n",
    "import getpass\n",
    "import astropy.units as u\n",
    "\n",
    "# Custom\n",
    "import helpers as h\n",
    "\n",
    "### sunpy ###\n",
    "from sunpy.net import Fido, attrs as a\n",
    "import sunpy_soar\n",
    "\n",
    "#plt.style.use(\"dark_background\")"
   ]
  },
  {
   "cell_type": "markdown",
   "id": "b3fe9886-6b2e-47e6-9510-bb11a596c76c",
   "metadata": {},
   "source": [
    "# Parker FIELDS data full range"
   ]
  },
  {
   "cell_type": "code",
   "execution_count": 4,
   "id": "69e7abfd-004a-4fb2-acb5-173bbd7da713",
   "metadata": {},
   "outputs": [],
   "source": [
    "## Load in CDF Files\n",
    "def load_cdf_file(filename):\n",
    "    data = pytplot.cdf_to_tplot(filename, notplot=True)\n",
    "    return data\n",
    "\n",
    "\n",
    "psp_fld_3_16= load_cdf_file('/Users/lachmed/Downloads/psp_fld_l2_mag_RTN_4_Sa_per_Cyc_20240316_v00.cdf')\n",
    "psp_fld_3_16= load_cdf_file('/Users/lachmed/Downloads/psp_fld_l2_mag_RTN_4_Sa_per_Cyc_20240316_v02.cdf')\n",
    "psp_fld_3_17= load_cdf_file('/Users/lachmed/Downloads/psp_fld_l2_mag_RTN_4_Sa_per_Cyc_20240317_v00.cdf')\n",
    "psp_fld_3_17= load_cdf_file('/Users/lachmed/Downloads/psp_fld_l2_mag_RTN_4_Sa_per_Cyc_20240317_v02.cdf')\n",
    "psp_fld_3_18= load_cdf_file('/Users/lachmed/Downloads/psp_fld_l2_mag_RTN_4_Sa_per_Cyc_20240318_v00.cdf')\n",
    "psp_fld_3_18= load_cdf_file('/Users/lachmed/Downloads/psp_fld_l2_mag_RTN_4_Sa_per_Cyc_20240318_v02.cdf')\n",
    "psp_fld_3_19= load_cdf_file('/Users/lachmed/Downloads/psp_fld_l2_mag_RTN_4_Sa_per_Cyc_20240319_v00.cdf')\n",
    "psp_fld_3_19= load_cdf_file('/Users/lachmed/Downloads/psp_fld_l2_mag_RTN_4_Sa_per_Cyc_20240319_v02.cdf')\n",
    "psp_fld_3_20= load_cdf_file('/Users/lachmed/Downloads/psp_fld_l2_mag_RTN_4_Sa_per_Cyc_20240320_v00.cdf')\n",
    "psp_fld_3_20= load_cdf_file('/Users/lachmed/Downloads/psp_fld_l2_mag_RTN_4_Sa_per_Cyc_20240320_v02.cdf')\n",
    "psp_fld_3_21= load_cdf_file('/Users/lachmed/Downloads/psp_fld_l2_mag_RTN_4_Sa_per_Cyc_20240321_v00.cdf')\n",
    "psp_fld_3_21= load_cdf_file('/Users/lachmed/Downloads/psp_fld_l2_mag_RTN_4_Sa_per_Cyc_20240321_v02.cdf')\n",
    "psp_fld_3_22= load_cdf_file('/Users/lachmed/Downloads/psp_fld_l2_mag_RTN_4_Sa_per_Cyc_20240322_v00.cdf')\n",
    "psp_fld_3_22= load_cdf_file('/Users/lachmed/Downloads/psp_fld_l2_mag_RTN_4_Sa_per_Cyc_20240322_v02.cdf')\n",
    "\n",
    "psp_fld_3_23= load_cdf_file('/Users/lachmed/Downloads/psp_fld_l2_mag_RTN_4_Sa_per_Cyc_20240323_v02.cdf')\n",
    "psp_fld_3_24= load_cdf_file('/Users/lachmed/Downloads/psp_fld_l2_mag_RTN_4_Sa_per_Cyc_20240324_v02.cdf')\n",
    "psp_fld_3_25= load_cdf_file('/Users/lachmed/Downloads/psp_fld_l2_mag_RTN_4_Sa_per_Cyc_20240325_v02.cdf')\n",
    "psp_fld_3_26= load_cdf_file('/Users/lachmed/Downloads/psp_fld_l2_mag_RTN_4_Sa_per_Cyc_20240326_v02.cdf')\n",
    "psp_fld_3_27= load_cdf_file('/Users/lachmed/Downloads/psp_fld_l2_mag_RTN_4_Sa_per_Cyc_20240327_v02.cdf')\n",
    "psp_fld_3_28= load_cdf_file('/Users/lachmed/Downloads/psp_fld_l2_mag_RTN_4_Sa_per_Cyc_20240328_v02.cdf')\n",
    "\n",
    "\n",
    "psp_fld_3_29= load_cdf_file('/Users/lachmed/Downloads/psp_fld_l2_mag_RTN_4_Sa_per_Cyc_20240329_v00.cdf')\n",
    "psp_fld_3_29= load_cdf_file('/Users/lachmed/Downloads/psp_fld_l2_mag_RTN_4_Sa_per_Cyc_20240329_v02.cdf')\n",
    "psp_fld_3_30= load_cdf_file('/Users/lachmed/Downloads/psp_fld_l2_mag_RTN_4_Sa_per_Cyc_20240330_v00.cdf')\n",
    "psp_fld_3_30= load_cdf_file('/Users/lachmed/Downloads/psp_fld_l2_mag_RTN_4_Sa_per_Cyc_20240330_v02.cdf')\n",
    "\n",
    "psp_fld_3_31= load_cdf_file('/Users/lachmed/Downloads/psp_fld_l2_mag_RTN_4_Sa_per_Cyc_20240331_v02.cdf')\n"
   ]
  },
  {
   "cell_type": "code",
   "execution_count": 5,
   "id": "44d46dab-23dd-4dd0-88ae-95ff036b905a",
   "metadata": {},
   "outputs": [],
   "source": [
    "psp_fld_4_1= load_cdf_file('/Users/lachmed/Downloads/psp_fld_l2_mag_RTN_4_Sa_per_Cyc_20240401_v02.cdf')\n",
    "psp_fld_4_2= load_cdf_file('/Users/lachmed/Downloads/psp_fld_l2_mag_RTN_4_Sa_per_Cyc_20240402_v02.cdf')\n",
    "psp_fld_4_3= load_cdf_file('/Users/lachmed/Downloads/psp_fld_l2_mag_RTN_4_Sa_per_Cyc_20240403_v02.cdf')\n",
    "psp_fld_4_4= load_cdf_file('/Users/lachmed/Downloads/psp_fld_l2_mag_RTN_4_Sa_per_Cyc_20240404_v02.cdf')\n",
    "psp_fld_4_5= load_cdf_file('/Users/lachmed/Downloads/psp_fld_l2_mag_RTN_4_Sa_per_Cyc_20240405_v02.cdf')\n",
    "psp_fld_4_6= load_cdf_file('/Users/lachmed/Downloads/psp_fld_l2_mag_RTN_4_Sa_per_Cyc_20240406_v02.cdf')\n",
    "\n",
    "psp_fld_4_7= load_cdf_file('/Users/lachmed/Downloads/psp_fld_l2_mag_RTN_4_Sa_per_Cyc_20240407_v00.cdf')\n",
    "psp_fld_4_7= load_cdf_file('/Users/lachmed/Downloads/psp_fld_l2_mag_RTN_4_Sa_per_Cyc_20240407_v02.cdf')\n",
    "\n",
    "psp_fld_4_8= load_cdf_file('/Users/lachmed/Downloads/psp_fld_l2_mag_RTN_4_Sa_per_Cyc_20240408_v00.cdf')\n",
    "psp_fld_4_8= load_cdf_file('/Users/lachmed/Downloads/psp_fld_l2_mag_RTN_4_Sa_per_Cyc_20240408_v02.cdf')\n",
    "psp_fld_4_9= load_cdf_file('/Users/lachmed/Downloads/psp_fld_l2_mag_RTN_4_Sa_per_Cyc_20240409_v00.cdf')\n",
    "psp_fld_4_9= load_cdf_file('/Users/lachmed/Downloads/psp_fld_l2_mag_RTN_4_Sa_per_Cyc_20240409_v02.cdf')\n",
    "psp_fld_4_10= load_cdf_file('/Users/lachmed/Downloads/psp_fld_l2_mag_RTN_4_Sa_per_Cyc_20240410_v00.cdf')\n",
    "psp_fld_4_10= load_cdf_file('/Users/lachmed/Downloads/psp_fld_l2_mag_RTN_4_Sa_per_Cyc_20240410_v02.cdf')\n",
    "psp_fld_4_11= load_cdf_file('/Users/lachmed/Downloads/psp_fld_l2_mag_RTN_4_Sa_per_Cyc_20240411_v00.cdf')\n",
    "psp_fld_4_11= load_cdf_file('/Users/lachmed/Downloads/psp_fld_l2_mag_RTN_4_Sa_per_Cyc_20240411_v02.cdf')\n",
    "psp_fld_4_12= load_cdf_file('/Users/lachmed/Downloads/psp_fld_l2_mag_RTN_4_Sa_per_Cyc_20240412_v00.cdf')\n",
    "psp_fld_4_12= load_cdf_file('/Users/lachmed/Downloads/psp_fld_l2_mag_RTN_4_Sa_per_Cyc_20240412_v02.cdf')\n",
    "psp_fld_4_13= load_cdf_file('/Users/lachmed/Downloads/psp_fld_l2_mag_RTN_4_Sa_per_Cyc_20240413_v00.cdf')\n",
    "psp_fld_4_13_2= load_cdf_file('/Users/lachmed/Downloads/psp_fld_l2_mag_RTN_4_Sa_per_Cyc_20240413_v02.cdf')\n",
    "psp_fld_4_14= load_cdf_file('/Users/lachmed/Downloads/psp_fld_l2_mag_RTN_4_Sa_per_Cyc_20240414_v02.cdf')"
   ]
  },
  {
   "cell_type": "code",
   "execution_count": 6,
   "id": "6e4aa233-1c02-4176-9a2a-a7065c7ccee0",
   "metadata": {},
   "outputs": [],
   "source": [
    "#E20 parker data 8/24-9/29\n",
    "\n",
    "psp_fld_4_14= load_cdf_file('/Users/lachmed/Downloads/psp_fld_l2_mag_RTN_4_Sa_per_Cyc_20240414_v02.cdf')\n"
   ]
  },
  {
   "cell_type": "markdown",
   "id": "32cc7aa1-9dd9-42b7-988f-c714e91893c2",
   "metadata": {},
   "source": [
    "psp_fld_l2_mag_RTN_1min = psp_fld['psp_fld_l2_mag_RTN_1min']\n",
    "parker_br_dt = pd.to_datetime(psp_fld_l2_mag_RTN_1min['x']).to_pydatetime() # Datetimes\n",
    "parker_br_ts = np.array([dt.timestamp() for dt in parker_br_dt]) # Unix Timestamp (float)\n",
    "parker_br = psp_fld_l2_mag_RTN_1min['y'][:,0]\n",
    "\n"
   ]
  },
  {
   "cell_type": "markdown",
   "id": "b15b12cb-9929-415f-86a6-c259faa848ad",
   "metadata": {},
   "source": [
    "psp_fld_data = psp_fld_3_29['psp_fld_l2_mag_RTN_4_Sa_per_Cyc']\n",
    "parker_br_dt = pd.to_datetime(psp_fld_data['x']).to_pydatetime()  # Datetimes\n",
    "parker_br_ts = np.array([dt.timestamp() for dt in parker_br_dt])  # Unix Timestamp (float)\n",
    "parker_br = psp_fld_data['y'][:, 0]\n",
    "psp_fld_data"
   ]
  },
  {
   "cell_type": "code",
   "execution_count": 7,
   "id": "d4af1e13-e013-4708-a783-583b951298d0",
   "metadata": {},
   "outputs": [],
   "source": [
    "def process_psp_fld_data(data, key='psp_fld_l2_mag_RTN_4_Sa_per_Cyc'):\n",
    "    if key not in data:\n",
    "        raise ValueError(f\"Key '{key}' not found in the data.\")\n",
    "\n",
    "    psp_fld_data = data[key]\n",
    "    parker_br_dt = pd.to_datetime(psp_fld_data['x']).to_pydatetime()  # Datetimes\n",
    "    parker_br_ts = np.array([dt.timestamp() for dt in parker_br_dt])  # Unix Timestamp (float)\n",
    "    parker_br = psp_fld_data['y'][:, 0]\n",
    "\n",
    "    return parker_br_dt, parker_br_ts, parker_br\n",
    "\n",
    "def magnitude_process_psp_fld_data(data, key='psp_fld_l2_mag_RTN_4_Sa_per_Cyc'):\n",
    "    if key not in data:\n",
    "        raise ValueError(f\"Key '{key}' not found in the data.\")\n",
    "\n",
    "    psp_fld_data = data[key]\n",
    "    parker_b_dt = pd.to_datetime(psp_fld_data['x']).to_pydatetime()  # Datetimes\n",
    "    parker_b_ts = np.array([dt.timestamp() for dt in parker_b_dt])  # Unix Timestamp (float)\n",
    "    parker_all_b = psp_fld_data['y'][:, :]\n",
    "\n",
    "    return parker_b_dt, parker_b_ts, parker_all_b\n",
    "\n",
    "\n",
    "parker_br_dt_16, parker_br_ts_16, parker_br_16 = process_psp_fld_data(psp_fld_3_16)\n",
    "parker_br_dt_17, parker_br_ts_17, parker_br_17 = process_psp_fld_data(psp_fld_3_17)\n",
    "parker_br_dt_18, parker_br_ts_18, parker_br_18 = process_psp_fld_data(psp_fld_3_18)\n",
    "parker_br_dt_19, parker_br_ts_19, parker_br_19 = process_psp_fld_data(psp_fld_3_19)\n",
    "\n",
    "\n",
    "parker_br_dt_20, parker_br_ts_20, parker_br_20 = process_psp_fld_data(psp_fld_3_20)\n",
    "parker_br_dt_21, parker_br_ts_21, parker_br_21 = process_psp_fld_data(psp_fld_3_21)\n",
    "parker_br_dt_22, parker_br_ts_22, parker_br_22 = process_psp_fld_data(psp_fld_3_22)\n",
    "\n",
    "\n",
    "parker_br_dt_23, parker_br_ts_23, parker_br_23 = process_psp_fld_data(psp_fld_3_23)\n",
    "parker_br_dt_24, parker_br_ts_24, parker_br_24 = process_psp_fld_data(psp_fld_3_24)\n",
    "parker_br_dt_25, parker_br_ts_25, parker_br_25 = process_psp_fld_data(psp_fld_3_25)\n",
    "parker_br_dt_26, parker_br_ts_26, parker_br_26 = process_psp_fld_data(psp_fld_3_26)\n",
    "parker_br_dt_27, parker_br_ts_27, parker_br_27 = process_psp_fld_data(psp_fld_3_27)\n",
    "parker_br_dt_28, parker_br_ts_28, parker_br_28 = process_psp_fld_data(psp_fld_3_28)\n",
    "\n",
    "\n",
    "parker_br_dt_29, parker_br_ts_29, parker_br_29 = process_psp_fld_data(psp_fld_3_29)\n",
    "parker_br_dt_30, parker_br_ts_30, parker_br_30 = process_psp_fld_data(psp_fld_3_30)\n",
    "parker_br_dt_31, parker_br_ts_31, parker_br_31 = process_psp_fld_data(psp_fld_3_31)"
   ]
  },
  {
   "cell_type": "code",
   "execution_count": 8,
   "id": "26037995-7d2a-4bb8-9933-da4fa0f72459",
   "metadata": {},
   "outputs": [],
   "source": [
    "#magnitude\n",
    "parker_b_dt_16, parker_b_ts_16, parker_b_16 = magnitude_process_psp_fld_data(psp_fld_3_16)\n",
    "parker_b_dt_17, parker_b_ts_17, parker_b_17 = magnitude_process_psp_fld_data(psp_fld_3_17)\n",
    "parker_b_dt_18, parker_b_ts_18, parker_b_18 = magnitude_process_psp_fld_data(psp_fld_3_18)\n",
    "parker_b_dt_19, parker_b_ts_19, parker_b_19 = magnitude_process_psp_fld_data(psp_fld_3_19)\n",
    "\n",
    "\n",
    "parker_b_dt_20, parker_b_ts_20, parker_b_20 = magnitude_process_psp_fld_data(psp_fld_3_20)\n",
    "parker_b_dt_21, parker_b_ts_21, parker_b_21 = magnitude_process_psp_fld_data(psp_fld_3_21)\n",
    "parker_b_dt_22, parker_b_ts_22, parker_b_22 = magnitude_process_psp_fld_data(psp_fld_3_22)\n",
    "\n",
    "\n",
    "parker_b_dt_23, parker_b_ts_23, parker_b_23 = magnitude_process_psp_fld_data(psp_fld_3_23)\n",
    "parker_b_dt_24, parker_b_ts_24, parker_b_24 = magnitude_process_psp_fld_data(psp_fld_3_24)\n",
    "parker_b_dt_25, parker_b_ts_25, parker_b_25 = magnitude_process_psp_fld_data(psp_fld_3_25)\n",
    "parker_b_dt_26, parker_b_ts_26, parker_b_26 = magnitude_process_psp_fld_data(psp_fld_3_26)\n",
    "parker_b_dt_27, parker_b_ts_27, parker_b_27 = magnitude_process_psp_fld_data(psp_fld_3_27)\n",
    "parker_b_dt_28, parker_b_ts_28, parker_b_28 = magnitude_process_psp_fld_data(psp_fld_3_28)\n",
    "\n",
    "\n",
    "parker_b_dt_29, parker_b_ts_29, parker_b_29 = magnitude_process_psp_fld_data(psp_fld_3_29)\n",
    "parker_b_dt_30, parker_b_ts_30, parker_b_30 = magnitude_process_psp_fld_data(psp_fld_3_30)\n",
    "parker_b_dt_31, parker_b_ts_31, parker_b_31 = magnitude_process_psp_fld_data(psp_fld_3_31)"
   ]
  },
  {
   "cell_type": "code",
   "execution_count": 9,
   "id": "758b64df-6693-44c7-9fa9-87a3d2cc5801",
   "metadata": {},
   "outputs": [],
   "source": [
    "parker_br_dt_4_1, parker_br_ts_4_1, parker_br_4_1 = process_psp_fld_data(psp_fld_4_1)\n",
    "parker_br_dt_4_2, parker_br_ts_4_2, parker_br_4_2 = process_psp_fld_data(psp_fld_4_2)\n",
    "parker_br_dt_4_3, parker_br_ts_4_3, parker_br_4_3 = process_psp_fld_data(psp_fld_4_3)\n",
    "parker_br_dt_4_4, parker_br_ts_4_4, parker_br_4_4 = process_psp_fld_data(psp_fld_4_4)\n",
    "parker_br_dt_4_5, parker_br_ts_4_5, parker_br_4_5 = process_psp_fld_data(psp_fld_4_5)\n",
    "parker_br_dt_4_6, parker_br_ts_4_6, parker_br_4_6 = process_psp_fld_data(psp_fld_4_6)\n",
    "\n",
    "parker_br_dt_4_7, parker_br_ts_4_7, parker_br_4_7 = process_psp_fld_data(psp_fld_4_7)\n",
    "parker_br_dt_4_8, parker_br_ts_4_8, parker_br_4_8 = process_psp_fld_data(psp_fld_4_8)\n",
    "parker_br_dt_4_9, parker_br_ts_4_9, parker_br_4_9 = process_psp_fld_data(psp_fld_4_9)\n",
    "parker_br_dt_4_10, parker_br_ts_4_10, parker_br_4_10 = process_psp_fld_data(psp_fld_4_10)\n",
    "parker_br_dt_4_11, parker_br_ts_4_11, parker_br_4_11 = process_psp_fld_data(psp_fld_4_11)\n",
    "parker_br_dt_4_12, parker_br_ts_4_12, parker_br_4_12 = process_psp_fld_data(psp_fld_4_12)\n",
    "\n",
    "parker_br_dt_4_13, parker_br_ts_4_13, parker_br_4_13 = process_psp_fld_data(psp_fld_4_13)\n",
    "parker_br_dt_4_13_2, parker_br_ts_4_13_2, parker_br_4_13_2 = process_psp_fld_data(psp_fld_4_13_2)\n",
    "parker_br_dt_4_14, parker_br_ts_4_14, parker_br_4_14 = process_psp_fld_data(psp_fld_4_14)"
   ]
  },
  {
   "cell_type": "code",
   "execution_count": 10,
   "id": "73bf1453-77af-4dcb-a901-b79cfd93882a",
   "metadata": {},
   "outputs": [],
   "source": [
    "parker_b_dt_4_1, parker_b_ts_4_1, parker_b_4_1 = magnitude_process_psp_fld_data(psp_fld_4_1)\n",
    "parker_b_dt_4_2, parker_b_ts_4_2, parker_b_4_2 = magnitude_process_psp_fld_data(psp_fld_4_2)\n",
    "parker_b_dt_4_3, parker_b_ts_4_3, parker_b_4_3 = magnitude_process_psp_fld_data(psp_fld_4_3)\n",
    "parker_b_dt_4_4, parker_b_ts_4_4, parker_b_4_4 = magnitude_process_psp_fld_data(psp_fld_4_4)\n",
    "parker_b_dt_4_5, parker_b_ts_4_5, parker_b_4_5 = magnitude_process_psp_fld_data(psp_fld_4_5)\n",
    "parker_b_dt_4_6, parker_b_ts_4_6, parker_b_4_6 = magnitude_process_psp_fld_data(psp_fld_4_6)\n",
    "\n",
    "parker_b_dt_4_7, parker_b_ts_4_7, parker_b_4_7 = magnitude_process_psp_fld_data(psp_fld_4_7)\n",
    "parker_b_dt_4_8, parker_b_ts_4_8, parker_b_4_8 = magnitude_process_psp_fld_data(psp_fld_4_8)\n",
    "parker_b_dt_4_9, parker_b_ts_4_9, parker_b_4_9 = magnitude_process_psp_fld_data(psp_fld_4_9)\n",
    "parker_b_dt_4_10, parker_b_ts_4_10, parker_b_4_10 = magnitude_process_psp_fld_data(psp_fld_4_10)\n",
    "parker_b_dt_4_11, parker_b_ts_4_11, parker_b_4_11 = magnitude_process_psp_fld_data(psp_fld_4_11)\n",
    "parker_b_dt_4_12, parker_b_ts_4_12, parker_b_4_12 = magnitude_process_psp_fld_data(psp_fld_4_12)\n",
    "\n",
    "parker_b_dt_4_13, parker_b_ts_4_13, parker_b_4_13 = magnitude_process_psp_fld_data(psp_fld_4_13)\n",
    "parker_b_dt_4_13_2, parker_b_ts_4_13_2, parker_b_4_13_2 = magnitude_process_psp_fld_data(psp_fld_4_13_2)\n",
    "parker_b_dt_4_14, parker_b_ts_4_14, parker_b_4_14 = magnitude_process_psp_fld_data(psp_fld_4_14)"
   ]
  },
  {
   "cell_type": "code",
   "execution_count": 11,
   "id": "21620de2-727a-4eb2-bed0-b720b2d8dcb0",
   "metadata": {},
   "outputs": [],
   "source": [
    "#Merging Parker March-April data\n",
    "merged_3_4_br_dt = np.concatenate((parker_br_dt_16, parker_br_dt_17, parker_br_dt_18, parker_br_dt_19, parker_br_dt_20, parker_br_dt_21, parker_br_dt_22, \n",
    "                                   parker_br_dt_23, parker_br_dt_24, parker_br_dt_25, parker_br_dt_26, parker_br_dt_27, parker_br_dt_28, parker_br_dt_29, parker_br_dt_30, parker_br_dt_31, \n",
    "                                   parker_br_dt_4_1, parker_br_dt_4_2, parker_br_dt_4_3, parker_br_dt_4_4, parker_br_dt_4_5, parker_br_dt_4_6, parker_br_dt_4_7, parker_br_dt_4_8, parker_br_dt_4_9, parker_br_dt_4_10, parker_br_dt_4_11, parker_br_dt_4_12, parker_br_dt_4_13, parker_br_dt_4_14))\n",
    "merged_3_4_br = np.concatenate((parker_br_16, parker_br_17, parker_br_18, parker_br_19, parker_br_20, parker_br_21, parker_br_22, \n",
    "                                   parker_br_23, parker_br_24, parker_br_25, parker_br_26, parker_br_27, parker_br_28, parker_br_29, parker_br_30, parker_br_31,\n",
    "                                   parker_br_4_1, parker_br_4_2, parker_br_4_3, parker_br_4_4, parker_br_4_5, parker_br_4_6, parker_br_4_7, parker_br_4_8, parker_br_4_9, parker_br_4_10, parker_br_4_11, parker_br_4_12, parker_br_4_13,  parker_br_4_14))"
   ]
  },
  {
   "cell_type": "markdown",
   "id": "b199236e-b46d-4c5e-a275-3ba7b7ab3ee5",
   "metadata": {},
   "source": [
    "merged_4_7_8_br_dt = np.concatenate(( parker_br_dt_4_7, parker_br_dt_4_8 ))\n",
    "merged_4_7_8_br = np.concatenate(( parker_br_4_7, parker_br_4_8 ))\n",
    "\n",
    "merged_4_13_br_dt = np.concatenate(( parker_br_dt_4_13, parker_br_dt_4_13_2 ))\n",
    "merged_4_13_br = np.concatenate(( parker_br_4_13, parker_br_4_13_2 ))"
   ]
  },
  {
   "cell_type": "code",
   "execution_count": 12,
   "id": "accf72b5-0409-40b2-b593-2c5f0daf97bd",
   "metadata": {},
   "outputs": [],
   "source": [
    "ten_minutes_array=h.gen_dt_arr(merged_3_4_br_dt[0], merged_3_4_br_dt[-1], cadence_days=1/24/6)\n",
    "\n",
    "ten_minutes_trajectory=spice.get_body('SPP', ten_minutes_array )\n",
    "ten_minutes_carr_trajectory = ten_minutes_trajectory.transform_to(HeliographicCarrington(observer=\"self\"))\n",
    "parker_trajectory_carrington= h.interp_trajectory( ten_minutes_array , ten_minutes_carr_trajectory, merged_3_4_br_dt)\n"
   ]
  },
  {
   "cell_type": "code",
   "execution_count": 31,
   "id": "23d2e1cb-1bab-4ff8-844e-79ef2539227d",
   "metadata": {},
   "outputs": [
    {
     "name": "stderr",
     "output_type": "stream",
     "text": [
      "25-Mar-25 15:00:35: Downloading remote index: https://spdf.gsfc.nasa.gov/pub/data/psp/sweap/spc/l3/l3i/2024/\n"
     ]
    },
    {
     "name": "stdout",
     "output_type": "stream",
     "text": [
      "Using LEVEL=L3\n"
     ]
    },
    {
     "name": "stderr",
     "output_type": "stream",
     "text": [
      "25-Mar-25 15:00:35: Downloading https://spdf.gsfc.nasa.gov/pub/data/psp/sweap/spc/l3/l3i/2024/psp_swp_spc_l3i_20240501_v02.cdf to psp_data/sweap/spc/l3/l3i/2024/psp_swp_spc_l3i_20240501_v02.cdf\n",
      "25-Mar-25 15:00:35: Download complete: psp_data/sweap/spc/l3/l3i/2024/psp_swp_spc_l3i_20240501_v02.cdf\n",
      "25-Mar-25 15:00:35: Downloading https://spdf.gsfc.nasa.gov/pub/data/psp/sweap/spc/l3/l3i/2024/psp_swp_spc_l3i_20240502_v02.cdf to psp_data/sweap/spc/l3/l3i/2024/psp_swp_spc_l3i_20240502_v02.cdf\n",
      "25-Mar-25 15:00:35: Download complete: psp_data/sweap/spc/l3/l3i/2024/psp_swp_spc_l3i_20240502_v02.cdf\n",
      "25-Mar-25 15:00:35: Downloading https://spdf.gsfc.nasa.gov/pub/data/psp/sweap/spc/l3/l3i/2024/psp_swp_spc_l3i_20240503_v02.cdf to psp_data/sweap/spc/l3/l3i/2024/psp_swp_spc_l3i_20240503_v02.cdf\n",
      "25-Mar-25 15:00:36: Download complete: psp_data/sweap/spc/l3/l3i/2024/psp_swp_spc_l3i_20240503_v02.cdf\n",
      "25-Mar-25 15:00:36: Downloading https://spdf.gsfc.nasa.gov/pub/data/psp/sweap/spc/l3/l3i/2024/psp_swp_spc_l3i_20240504_v02.cdf to psp_data/sweap/spc/l3/l3i/2024/psp_swp_spc_l3i_20240504_v02.cdf\n",
      "25-Mar-25 15:00:36: Download complete: psp_data/sweap/spc/l3/l3i/2024/psp_swp_spc_l3i_20240504_v02.cdf\n",
      "25-Mar-25 15:00:36: Downloading https://spdf.gsfc.nasa.gov/pub/data/psp/sweap/spc/l3/l3i/2024/psp_swp_spc_l3i_20240505_v02.cdf to psp_data/sweap/spc/l3/l3i/2024/psp_swp_spc_l3i_20240505_v02.cdf\n",
      "25-Mar-25 15:00:36: Download complete: psp_data/sweap/spc/l3/l3i/2024/psp_swp_spc_l3i_20240505_v02.cdf\n",
      "25-Mar-25 15:00:36: Downloading https://spdf.gsfc.nasa.gov/pub/data/psp/sweap/spc/l3/l3i/2024/psp_swp_spc_l3i_20240506_v02.cdf to psp_data/sweap/spc/l3/l3i/2024/psp_swp_spc_l3i_20240506_v02.cdf\n",
      "25-Mar-25 15:00:36: Download complete: psp_data/sweap/spc/l3/l3i/2024/psp_swp_spc_l3i_20240506_v02.cdf\n",
      "25-Mar-25 15:00:36: No links matching pattern psp_swp_spc_l3i_20240507_v??.cdf found at remote index https://spdf.gsfc.nasa.gov/pub/data/psp/sweap/spc/l3/l3i/2024/\n",
      "25-Mar-25 15:00:36: Downloading https://spdf.gsfc.nasa.gov/pub/data/psp/sweap/spc/l3/l3i/2024/psp_swp_spc_l3i_20240508_v02.cdf to psp_data/sweap/spc/l3/l3i/2024/psp_swp_spc_l3i_20240508_v02.cdf\n",
      "25-Mar-25 15:00:36: Download complete: psp_data/sweap/spc/l3/l3i/2024/psp_swp_spc_l3i_20240508_v02.cdf\n",
      "25-Mar-25 15:00:37: Downloading https://spdf.gsfc.nasa.gov/pub/data/psp/sweap/spc/l3/l3i/2024/psp_swp_spc_l3i_20240509_v02.cdf to psp_data/sweap/spc/l3/l3i/2024/psp_swp_spc_l3i_20240509_v02.cdf\n",
      "25-Mar-25 15:00:37: Download complete: psp_data/sweap/spc/l3/l3i/2024/psp_swp_spc_l3i_20240509_v02.cdf\n",
      "25-Mar-25 15:00:37: Downloading https://spdf.gsfc.nasa.gov/pub/data/psp/sweap/spc/l3/l3i/2024/psp_swp_spc_l3i_20240510_v02.cdf to psp_data/sweap/spc/l3/l3i/2024/psp_swp_spc_l3i_20240510_v02.cdf\n",
      "25-Mar-25 15:00:37: Download complete: psp_data/sweap/spc/l3/l3i/2024/psp_swp_spc_l3i_20240510_v02.cdf\n",
      "25-Mar-25 15:00:37: Downloading https://spdf.gsfc.nasa.gov/pub/data/psp/sweap/spc/l3/l3i/2024/psp_swp_spc_l3i_20240511_v02.cdf to psp_data/sweap/spc/l3/l3i/2024/psp_swp_spc_l3i_20240511_v02.cdf\n",
      "25-Mar-25 15:00:37: Download complete: psp_data/sweap/spc/l3/l3i/2024/psp_swp_spc_l3i_20240511_v02.cdf\n",
      "25-Mar-25 15:00:37: Downloading https://spdf.gsfc.nasa.gov/pub/data/psp/sweap/spc/l3/l3i/2024/psp_swp_spc_l3i_20240512_v02.cdf to psp_data/sweap/spc/l3/l3i/2024/psp_swp_spc_l3i_20240512_v02.cdf\n",
      "25-Mar-25 15:00:37: Download complete: psp_data/sweap/spc/l3/l3i/2024/psp_swp_spc_l3i_20240512_v02.cdf\n",
      "25-Mar-25 15:00:38: Downloading https://spdf.gsfc.nasa.gov/pub/data/psp/sweap/spc/l3/l3i/2024/psp_swp_spc_l3i_20240513_v02.cdf to psp_data/sweap/spc/l3/l3i/2024/psp_swp_spc_l3i_20240513_v02.cdf\n",
      "25-Mar-25 15:00:38: Download complete: psp_data/sweap/spc/l3/l3i/2024/psp_swp_spc_l3i_20240513_v02.cdf\n",
      "25-Mar-25 15:00:38: Downloading https://spdf.gsfc.nasa.gov/pub/data/psp/sweap/spc/l3/l3i/2024/psp_swp_spc_l3i_20240514_v02.cdf to psp_data/sweap/spc/l3/l3i/2024/psp_swp_spc_l3i_20240514_v02.cdf\n",
      "25-Mar-25 15:00:38: Download complete: psp_data/sweap/spc/l3/l3i/2024/psp_swp_spc_l3i_20240514_v02.cdf\n",
      "25-Mar-25 15:00:38: Downloading https://spdf.gsfc.nasa.gov/pub/data/psp/sweap/spc/l3/l3i/2024/psp_swp_spc_l3i_20240515_v02.cdf to psp_data/sweap/spc/l3/l3i/2024/psp_swp_spc_l3i_20240515_v02.cdf\n",
      "25-Mar-25 15:00:38: Download complete: psp_data/sweap/spc/l3/l3i/2024/psp_swp_spc_l3i_20240515_v02.cdf\n",
      "25-Mar-25 15:00:38: Downloading https://spdf.gsfc.nasa.gov/pub/data/psp/sweap/spc/l3/l3i/2024/psp_swp_spc_l3i_20240516_v02.cdf to psp_data/sweap/spc/l3/l3i/2024/psp_swp_spc_l3i_20240516_v02.cdf\n",
      "25-Mar-25 15:00:38: Download complete: psp_data/sweap/spc/l3/l3i/2024/psp_swp_spc_l3i_20240516_v02.cdf\n",
      "25-Mar-25 15:00:38: Downloading https://spdf.gsfc.nasa.gov/pub/data/psp/sweap/spc/l3/l3i/2024/psp_swp_spc_l3i_20240517_v02.cdf to psp_data/sweap/spc/l3/l3i/2024/psp_swp_spc_l3i_20240517_v02.cdf\n",
      "25-Mar-25 15:00:39: Download complete: psp_data/sweap/spc/l3/l3i/2024/psp_swp_spc_l3i_20240517_v02.cdf\n",
      "25-Mar-25 15:00:39: Downloading https://spdf.gsfc.nasa.gov/pub/data/psp/sweap/spc/l3/l3i/2024/psp_swp_spc_l3i_20240518_v02.cdf to psp_data/sweap/spc/l3/l3i/2024/psp_swp_spc_l3i_20240518_v02.cdf\n",
      "25-Mar-25 15:00:39: Download complete: psp_data/sweap/spc/l3/l3i/2024/psp_swp_spc_l3i_20240518_v02.cdf\n",
      "25-Mar-25 15:00:39: Downloading https://spdf.gsfc.nasa.gov/pub/data/psp/sweap/spc/l3/l3i/2024/psp_swp_spc_l3i_20240519_v02.cdf to psp_data/sweap/spc/l3/l3i/2024/psp_swp_spc_l3i_20240519_v02.cdf\n",
      "25-Mar-25 15:00:39: Download complete: psp_data/sweap/spc/l3/l3i/2024/psp_swp_spc_l3i_20240519_v02.cdf\n",
      "25-Mar-25 15:00:39: Downloading https://spdf.gsfc.nasa.gov/pub/data/psp/sweap/spc/l3/l3i/2024/psp_swp_spc_l3i_20240520_v02.cdf to psp_data/sweap/spc/l3/l3i/2024/psp_swp_spc_l3i_20240520_v02.cdf\n",
      "25-Mar-25 15:00:39: Download complete: psp_data/sweap/spc/l3/l3i/2024/psp_swp_spc_l3i_20240520_v02.cdf\n",
      "25-Mar-25 15:00:39: Downloading https://spdf.gsfc.nasa.gov/pub/data/psp/sweap/spc/l3/l3i/2024/psp_swp_spc_l3i_20240521_v02.cdf to psp_data/sweap/spc/l3/l3i/2024/psp_swp_spc_l3i_20240521_v02.cdf\n",
      "25-Mar-25 15:00:39: Download complete: psp_data/sweap/spc/l3/l3i/2024/psp_swp_spc_l3i_20240521_v02.cdf\n",
      "25-Mar-25 15:00:40: Downloading https://spdf.gsfc.nasa.gov/pub/data/psp/sweap/spc/l3/l3i/2024/psp_swp_spc_l3i_20240522_v02.cdf to psp_data/sweap/spc/l3/l3i/2024/psp_swp_spc_l3i_20240522_v02.cdf\n",
      "25-Mar-25 15:00:40: Download complete: psp_data/sweap/spc/l3/l3i/2024/psp_swp_spc_l3i_20240522_v02.cdf\n",
      "25-Mar-25 15:00:40: Downloading https://spdf.gsfc.nasa.gov/pub/data/psp/sweap/spc/l3/l3i/2024/psp_swp_spc_l3i_20240523_v02.cdf to psp_data/sweap/spc/l3/l3i/2024/psp_swp_spc_l3i_20240523_v02.cdf\n",
      "25-Mar-25 15:00:40: Download complete: psp_data/sweap/spc/l3/l3i/2024/psp_swp_spc_l3i_20240523_v02.cdf\n",
      "25-Mar-25 15:00:40: Downloading https://spdf.gsfc.nasa.gov/pub/data/psp/sweap/spc/l3/l3i/2024/psp_swp_spc_l3i_20240524_v02.cdf to psp_data/sweap/spc/l3/l3i/2024/psp_swp_spc_l3i_20240524_v02.cdf\n",
      "25-Mar-25 15:00:40: Download complete: psp_data/sweap/spc/l3/l3i/2024/psp_swp_spc_l3i_20240524_v02.cdf\n",
      "25-Mar-25 15:00:40: Downloading https://spdf.gsfc.nasa.gov/pub/data/psp/sweap/spc/l3/l3i/2024/psp_swp_spc_l3i_20240525_v02.cdf to psp_data/sweap/spc/l3/l3i/2024/psp_swp_spc_l3i_20240525_v02.cdf\n",
      "25-Mar-25 15:00:40: Download complete: psp_data/sweap/spc/l3/l3i/2024/psp_swp_spc_l3i_20240525_v02.cdf\n",
      "25-Mar-25 15:00:41: Downloading https://spdf.gsfc.nasa.gov/pub/data/psp/sweap/spc/l3/l3i/2024/psp_swp_spc_l3i_20240526_v02.cdf to psp_data/sweap/spc/l3/l3i/2024/psp_swp_spc_l3i_20240526_v02.cdf\n",
      "25-Mar-25 15:00:41: Download complete: psp_data/sweap/spc/l3/l3i/2024/psp_swp_spc_l3i_20240526_v02.cdf\n",
      "25-Mar-25 15:00:41: Downloading https://spdf.gsfc.nasa.gov/pub/data/psp/sweap/spc/l3/l3i/2024/psp_swp_spc_l3i_20240527_v02.cdf to psp_data/sweap/spc/l3/l3i/2024/psp_swp_spc_l3i_20240527_v02.cdf\n",
      "25-Mar-25 15:00:41: Download complete: psp_data/sweap/spc/l3/l3i/2024/psp_swp_spc_l3i_20240527_v02.cdf\n",
      "25-Mar-25 15:00:41: Downloading https://spdf.gsfc.nasa.gov/pub/data/psp/sweap/spc/l3/l3i/2024/psp_swp_spc_l3i_20240528_v02.cdf to psp_data/sweap/spc/l3/l3i/2024/psp_swp_spc_l3i_20240528_v02.cdf\n",
      "25-Mar-25 15:00:41: Download complete: psp_data/sweap/spc/l3/l3i/2024/psp_swp_spc_l3i_20240528_v02.cdf\n",
      "25-Mar-25 15:00:41: Downloading https://spdf.gsfc.nasa.gov/pub/data/psp/sweap/spc/l3/l3i/2024/psp_swp_spc_l3i_20240529_v02.cdf to psp_data/sweap/spc/l3/l3i/2024/psp_swp_spc_l3i_20240529_v02.cdf\n"
     ]
    },
    {
     "name": "stderr",
     "output_type": "stream",
     "text": [
      "25-Mar-25 15:00:41: Download complete: psp_data/sweap/spc/l3/l3i/2024/psp_swp_spc_l3i_20240529_v02.cdf\n",
      "25-Mar-25 15:00:41: Downloading https://spdf.gsfc.nasa.gov/pub/data/psp/sweap/spc/l3/l3i/2024/psp_swp_spc_l3i_20240530_v02.cdf to psp_data/sweap/spc/l3/l3i/2024/psp_swp_spc_l3i_20240530_v02.cdf\n",
      "25-Mar-25 15:00:42: Download complete: psp_data/sweap/spc/l3/l3i/2024/psp_swp_spc_l3i_20240530_v02.cdf\n"
     ]
    }
   ],
   "source": [
    "### Parker Solar Probe Data\n",
    "\n",
    "### Parker Solar Probe Plasma Data\n",
    "# SPC\n",
    "dt_start = datetime.datetime(2024, 5, 1)\n",
    "dt_end = datetime.datetime(2024, 5, 31)\n",
    "\n",
    "#usr = getpass.getuser()\n",
    "#pass_swp = getpass.getpass(\"Enter SWEAP Password:\")\n",
    "#pass_fld = getpass.getpass(\"Enter FIELDS Password:\")\n",
    "\n",
    "\n",
    "psp_spc = pyspedas.psp.spc([dt_start,dt_end],\n",
    "                                       notplot=True,    \n",
    "                                       datatype=\"l3i\", \n",
    "                                       level=\"L3\")\n",
    "                                       #username=usr,\n",
    "                                       #password=pass_swp,)\n",
    "\n",
    "#Density\n",
    "psp_spc_Dens=psp_spc['psp_spc_np_fit']\n",
    "parker_n_dt = pd.to_datetime(psp_spc_Dens['x']).to_pydatetime() # Datetimes\n",
    "parker_n_ts = np.array([dt.timestamp() for dt in parker_n_dt]) # Unix Timestamp (float)\n",
    "parker_n = psp_spc_Dens['y'] \n",
    "#parker_n\n",
    "\n",
    "#speed\n",
    "psp_spc_VEL_RTN_SUN  = psp_spc['psp_spc_vp_fit_RTN']\n",
    "parker_vr_dt = pd.to_datetime(psp_spc_VEL_RTN_SUN['x']).to_pydatetime() # Datetimes\n",
    "parker_vr_ts = np.array([dt.timestamp() for dt in parker_vr_dt]) # Unix Timestamp (float)\n",
    "parker_vr = psp_spc_VEL_RTN_SUN['y'][:,0]\n",
    "\n",
    "#Temp\n",
    "psp_spc_Temp  = psp_spc['psp_spc_wp_fit']\n",
    "parker_w_dt = pd.to_datetime(psp_spc_Temp['x']).to_pydatetime() # Datetimes\n",
    "parker_w_ts = np.array([dt.timestamp() for dt in parker_w_dt]) # Unix Timestamp (float)\n",
    "parker_w = psp_spc_Temp['y']"
   ]
  },
  {
   "cell_type": "markdown",
   "id": "f50911a6-00f5-4abe-8f32-e95ddf86ac1f",
   "metadata": {},
   "source": [
    "# Generate Positions for Parker Solar Probe\n",
    "parker_trajectory_inertial_Vr = spice.get_body('SPP', parker_vr_dt)\n",
    "parker_trajectory_carrington_Vr = parker_trajectory_inertial_Vr.transform_to(HeliographicCarrington(observer=\"self\"))\n",
    "parker_trajectory_inertial_Vr.representation_type = \"spherical\"\n",
    "parker_trajectory_carrington_Vr.representation_type = \"spherical\""
   ]
  },
  {
   "cell_type": "code",
   "execution_count": 33,
   "id": "29c4f0dc",
   "metadata": {},
   "outputs": [],
   "source": [
    "ten_minutes_array_Vr=h.gen_dt_arr(parker_vr_dt[0], parker_vr_dt[-1], cadence_days=1/24/6)\n",
    "\n",
    "\n",
    "ten_minutes_trajectory_Vr=spice.get_body('SPP', ten_minutes_array_Vr)\n",
    "ten_minutes_carr_trajectory_Vr = ten_minutes_trajectory_Vr.transform_to(HeliographicCarrington(observer=\"self\"))\n",
    "parker_trajectory_carrington_Vr= h.interp_trajectory( ten_minutes_array_Vr , ten_minutes_carr_trajectory_Vr, parker_vr_dt)\n",
    "\n",
    "parker_projected_Vr=h.ballistically_project( parker_trajectory_carrington_Vr)"
   ]
  },
  {
   "cell_type": "code",
   "execution_count": 41,
   "id": "1438f142",
   "metadata": {},
   "outputs": [
    {
     "data": {
      "text/plain": [
       "<function helpers.ballistically_project(skycoord, r_inner=<Quantity 2.5 solRad>, vr_arr=None)>"
      ]
     },
     "execution_count": 41,
     "metadata": {},
     "output_type": "execute_result"
    }
   ],
   "source": [
    "h.ballistically_project #figure out a way to give it spacecraft speed "
   ]
  },
  {
   "cell_type": "code",
   "execution_count": 34,
   "id": "86142013",
   "metadata": {},
   "outputs": [],
   "source": [
    "#Export csv files of Br\n",
    "\n",
    "export_parker_outbound = pd.DataFrame(data={'time': parker_vr_dt, 'source_surface_longitude': parker_projected_Vr.lon, 'np': parker_n, 'vp':parker_vr, 'wp': parker_w, 'r^2': (parker_trajectory_carrington_Vr.radius.to(\"au\")**2)})\n",
    "#export_parker_outbound.to_csv(\"outbound_spc_parker_source_surface_March_solar_wind_data_4_7_13.csv\", sep=',',index=False)\n",
    "export_parker_outbound.to_csv(\"/Users/lachmed/Documents/HUXt/May_2024_CME_HUXt_data.csv\", sep=',',index=False)\n"
   ]
  },
  {
   "cell_type": "code",
   "execution_count": 25,
   "id": "82f62d67",
   "metadata": {},
   "outputs": [
    {
     "name": "stderr",
     "output_type": "stream",
     "text": [
      "17-Mar-25 20:50:29: /var/folders/sh/dzx0vcms3sb875q_h8s2ymgw0000gp/T/ipykernel_27708/2220294596.py:13: FutureWarning: DataFrame.interpolate with object dtype is deprecated and will raise in a future version. Call obj.infer_objects(copy=False) before interpolating instead.\n",
      "  filtered_df_4_7_13_spc = filtered_df_4_7_13_spc.interpolate(method=\"linear\") #interpolation\n",
      "\n"
     ]
    },
    {
     "data": {
      "text/html": [
       "<div>\n",
       "<style scoped>\n",
       "    .dataframe tbody tr th:only-of-type {\n",
       "        vertical-align: middle;\n",
       "    }\n",
       "\n",
       "    .dataframe tbody tr th {\n",
       "        vertical-align: top;\n",
       "    }\n",
       "\n",
       "    .dataframe thead th {\n",
       "        text-align: right;\n",
       "    }\n",
       "</style>\n",
       "<table border=\"1\" class=\"dataframe\">\n",
       "  <thead>\n",
       "    <tr style=\"text-align: right;\">\n",
       "      <th></th>\n",
       "      <th>time</th>\n",
       "      <th>source_surface_longitude</th>\n",
       "      <th>np</th>\n",
       "      <th>vp</th>\n",
       "      <th>wp</th>\n",
       "      <th>r^2</th>\n",
       "    </tr>\n",
       "  </thead>\n",
       "  <tbody>\n",
       "    <tr>\n",
       "      <th>1</th>\n",
       "      <td>2024-04-02 00:00:00.512454</td>\n",
       "      <td>180.813970</td>\n",
       "      <td>256.876460</td>\n",
       "      <td>378.77472</td>\n",
       "      <td>76.691170</td>\n",
       "      <td>0.028982</td>\n",
       "    </tr>\n",
       "    <tr>\n",
       "      <th>2</th>\n",
       "      <td>2024-04-02 00:00:01.386254</td>\n",
       "      <td>180.813964</td>\n",
       "      <td>191.034290</td>\n",
       "      <td>401.97705</td>\n",
       "      <td>69.757560</td>\n",
       "      <td>0.028982</td>\n",
       "    </tr>\n",
       "    <tr>\n",
       "      <th>3</th>\n",
       "      <td>2024-04-02 00:00:02.260074</td>\n",
       "      <td>180.813958</td>\n",
       "      <td>259.046330</td>\n",
       "      <td>376.60022</td>\n",
       "      <td>76.260740</td>\n",
       "      <td>0.028982</td>\n",
       "    </tr>\n",
       "    <tr>\n",
       "      <th>5</th>\n",
       "      <td>2024-04-02 00:00:04.007714</td>\n",
       "      <td>180.813947</td>\n",
       "      <td>154.859680</td>\n",
       "      <td>397.41568</td>\n",
       "      <td>37.912180</td>\n",
       "      <td>0.028983</td>\n",
       "    </tr>\n",
       "    <tr>\n",
       "      <th>6</th>\n",
       "      <td>2024-04-02 00:00:04.881514</td>\n",
       "      <td>180.813941</td>\n",
       "      <td>188.592850</td>\n",
       "      <td>383.19030</td>\n",
       "      <td>67.009740</td>\n",
       "      <td>0.028983</td>\n",
       "    </tr>\n",
       "    <tr>\n",
       "      <th>...</th>\n",
       "      <td>...</td>\n",
       "      <td>...</td>\n",
       "      <td>...</td>\n",
       "      <td>...</td>\n",
       "      <td>...</td>\n",
       "      <td>...</td>\n",
       "    </tr>\n",
       "    <tr>\n",
       "      <th>412998</th>\n",
       "      <td>2024-04-15 06:48:03.048720</td>\n",
       "      <td>56.973792</td>\n",
       "      <td>20.613535</td>\n",
       "      <td>355.31490</td>\n",
       "      <td>55.947178</td>\n",
       "      <td>0.267372</td>\n",
       "    </tr>\n",
       "    <tr>\n",
       "      <th>412999</th>\n",
       "      <td>2024-04-15 06:48:31.010804</td>\n",
       "      <td>56.969970</td>\n",
       "      <td>22.501892</td>\n",
       "      <td>347.57950</td>\n",
       "      <td>58.382530</td>\n",
       "      <td>0.267378</td>\n",
       "    </tr>\n",
       "    <tr>\n",
       "      <th>413000</th>\n",
       "      <td>2024-04-15 06:48:58.972908</td>\n",
       "      <td>56.966149</td>\n",
       "      <td>21.515165</td>\n",
       "      <td>342.87530</td>\n",
       "      <td>58.284904</td>\n",
       "      <td>0.267383</td>\n",
       "    </tr>\n",
       "    <tr>\n",
       "      <th>413001</th>\n",
       "      <td>2024-04-15 06:49:26.934992</td>\n",
       "      <td>56.962327</td>\n",
       "      <td>19.892130</td>\n",
       "      <td>364.20062</td>\n",
       "      <td>57.866600</td>\n",
       "      <td>0.267389</td>\n",
       "    </tr>\n",
       "    <tr>\n",
       "      <th>413002</th>\n",
       "      <td>2024-04-15 06:49:54.897075</td>\n",
       "      <td>56.958505</td>\n",
       "      <td>21.473036</td>\n",
       "      <td>343.85477</td>\n",
       "      <td>56.092550</td>\n",
       "      <td>0.267395</td>\n",
       "    </tr>\n",
       "  </tbody>\n",
       "</table>\n",
       "<p>396671 rows × 6 columns</p>\n",
       "</div>"
      ],
      "text/plain": [
       "                              time  source_surface_longitude          np  \\\n",
       "1       2024-04-02 00:00:00.512454                180.813970  256.876460   \n",
       "2       2024-04-02 00:00:01.386254                180.813964  191.034290   \n",
       "3       2024-04-02 00:00:02.260074                180.813958  259.046330   \n",
       "5       2024-04-02 00:00:04.007714                180.813947  154.859680   \n",
       "6       2024-04-02 00:00:04.881514                180.813941  188.592850   \n",
       "...                            ...                       ...         ...   \n",
       "412998  2024-04-15 06:48:03.048720                 56.973792   20.613535   \n",
       "412999  2024-04-15 06:48:31.010804                 56.969970   22.501892   \n",
       "413000  2024-04-15 06:48:58.972908                 56.966149   21.515165   \n",
       "413001  2024-04-15 06:49:26.934992                 56.962327   19.892130   \n",
       "413002  2024-04-15 06:49:54.897075                 56.958505   21.473036   \n",
       "\n",
       "               vp         wp       r^2  \n",
       "1       378.77472  76.691170  0.028982  \n",
       "2       401.97705  69.757560  0.028982  \n",
       "3       376.60022  76.260740  0.028982  \n",
       "5       397.41568  37.912180  0.028983  \n",
       "6       383.19030  67.009740  0.028983  \n",
       "...           ...        ...       ...  \n",
       "412998  355.31490  55.947178  0.267372  \n",
       "412999  347.57950  58.382530  0.267378  \n",
       "413000  342.87530  58.284904  0.267383  \n",
       "413001  364.20062  57.866600  0.267389  \n",
       "413002  343.85477  56.092550  0.267395  \n",
       "\n",
       "[396671 rows x 6 columns]"
      ]
     },
     "execution_count": 25,
     "metadata": {},
     "output_type": "execute_result"
    }
   ],
   "source": [
    "filtered_df_4_7_13_data_spc= '/Users/lachmed/Documents/Longitude_warping_project/outbound_spc_parker_source_surface_March_solar_wind_data_4_7_13.csv'\n",
    "\n",
    "\n",
    "filtered_df_4_7_13_spc= pd.read_csv(filtered_df_4_7_13_data_spc)\n",
    "\n",
    "\n",
    "filtered_df_4_7_13_spc=filtered_df_4_7_13_spc.dropna()\n",
    "\n",
    "\n",
    "#filtered_df_4_7_13=filtered_df_4_7_13.reset_index(drop=True)\n",
    "\n",
    "\n",
    "filtered_df_4_7_13_spc = filtered_df_4_7_13_spc.interpolate(method=\"linear\") #interpolation \n",
    "\n",
    "#filtered_df_4_7_13=filtered_df_4_7_13_spc\n",
    "filtered_df_4_7_13_spc"
   ]
  },
  {
   "cell_type": "code",
   "execution_count": 26,
   "id": "ad818a4c",
   "metadata": {},
   "outputs": [
    {
     "data": {
      "text/plain": [
       "Text(0.5, 1.0, 'outbound np*R^2 vs SS longitude')"
      ]
     },
     "execution_count": 26,
     "metadata": {},
     "output_type": "execute_result"
    },
    {
     "data": {
      "image/png": "[encoded data removed]",
      "text/plain": [
       "<Figure size 640x480 with 1 Axes>"
      ]
     },
     "metadata": {},
     "output_type": "display_data"
    }
   ],
   "source": [
    "plt.plot(filtered_df_4_7_13_spc['source_surface_longitude'], filtered_df_4_7_13_spc['np']*filtered_df_4_7_13_spc['r^2'])\n",
    "plt.ylabel('np*R^2')\n",
    "plt.xlabel('SS longitude')\n",
    "plt.title('outbound np*R^2 vs SS longitude')\n"
   ]
  },
  {
   "cell_type": "code",
   "execution_count": 27,
   "id": "5ddd30b9",
   "metadata": {},
   "outputs": [
    {
     "data": {
      "text/plain": [
       "Text(0.5, 1.0, 'outbound vp vs SS longitude')"
      ]
     },
     "execution_count": 27,
     "metadata": {},
     "output_type": "execute_result"
    },
    {
     "data": {
      "image/png": "[encoded data removed]",
      "text/plain": [
       "<Figure size 640x480 with 1 Axes>"
      ]
     },
     "metadata": {},
     "output_type": "display_data"
    }
   ],
   "source": [
    "plt.plot(filtered_df_4_7_13_spc['source_surface_longitude'], filtered_df_4_7_13_spc['vp'])\n",
    "plt.ylabel('vp')\n",
    "plt.xlabel('SS longitude')\n",
    "plt.title('outbound vp vs SS longitude')\n"
   ]
  },
  {
   "cell_type": "code",
   "execution_count": null,
   "id": "1c7e3e14",
   "metadata": {},
   "outputs": [],
   "source": []
  },
  {
   "cell_type": "code",
   "execution_count": 24,
   "id": "fca9918c",
   "metadata": {},
   "outputs": [
    {
     "data": {
      "text/plain": [
       "Text(0.5, 0, 'Source surface longitude')"
      ]
     },
     "execution_count": 24,
     "metadata": {},
     "output_type": "execute_result"
    },
    {
     "data": {
      "image/png": "[encoded data removed]",
      "text/plain": [
       "<Figure size 640x480 with 1 Axes>"
      ]
     },
     "metadata": {},
     "output_type": "display_data"
    }
   ],
   "source": [
    "#plt.plot( filtered_df_29_30['Parker 29_30 longitude array'], filtered_df_29_30['vp'])\n",
    "\n",
    "plt.plot(parker_projected_Vr.lon, parker_vr)\n",
    "plt.ylabel('vp')\n",
    "plt.xlabel('Source surface longitude')"
   ]
  },
  {
   "cell_type": "code",
   "execution_count": null,
   "id": "3901bf1d",
   "metadata": {},
   "outputs": [],
   "source": [
    "x"
   ]
  },
  {
   "cell_type": "markdown",
   "id": "e08cd6c0-d317-4b94-aaa2-7d66780a7bea",
   "metadata": {},
   "source": [
    "# Wind"
   ]
  },
  {
   "cell_type": "code",
   "execution_count": null,
   "id": "14f48973-489c-4728-9b2e-2b784605d22c",
   "metadata": {},
   "outputs": [],
   "source": [
    "dt_start = datetime.datetime(2024,4,4)\n",
    "dt_end = datetime.datetime(2024,4,9)\n",
    "\n",
    "### L1\n",
    "L1_omni= pyspedas.omni.data([dt_start,dt_end],notplot=True)#['psp_spi_VEL_RTN_SUN']\n",
    "\n",
    "l1_vr_dt = pd.to_datetime(L1_omni['Vx']['x']).to_pydatetime()\n",
    "inds = np.where(l1_vr_dt < dt_end)[0]\n",
    "l1_vr_dt = l1_vr_dt[inds]\n",
    "l1_vr_ts = np.array([dt.timestamp() for dt in l1_vr_dt]) # Unix Timestamp (float)\n",
    "l1_vr = -L1_omni['Vx']['y'][inds]\n",
    "\n",
    "l1_n_dt = pd.to_datetime(L1_omni['proton_density']['x']).to_pydatetime()\n",
    "inds = np.where(l1_n_dt < dt_end)[0]\n",
    "l1_n_dt = l1_n_dt[inds]\n",
    "l1_n_ts = np.array([dt.timestamp() for dt in l1_n_dt]) # Unix Timestamp (float)\n",
    "l1_n = L1_omni['proton_density']['y'][inds]\n",
    "\n",
    "l1_w_dt = pd.to_datetime(L1_omni['T']['x']).to_pydatetime()\n",
    "inds = np.where(l1_w_dt < dt_end)[0]\n",
    "l1_w_dt = l1_w_dt[inds]\n",
    "l1_w_ts = np.array([dt.timestamp() for dt in l1_w_dt]) # Unix Timestamp (float)\n",
    "l1_w = L1_omni['T']['y'][inds]\n",
    "\n",
    "\n",
    "l1_br_dt = pd.to_datetime(L1_omni['BX_GSE']['x']).to_pydatetime() \n",
    "inds = np.where(l1_br_dt < dt_end)[0]\n",
    "l1_br_dt = l1_br_dt[inds]\n",
    "l1_br_ts = np.array([dt.timestamp() for dt in l1_vr_dt]) # Unix Timestamp (float)\n",
    "l1_br = -L1_omni['BX_GSE']['y'][inds]\n",
    "\n",
    "l1_b=[ -L1_omni['BX_GSE']['y'][inds], -L1_omni['BY_GSE']['y'][inds], -L1_omni['BZ_GSE']['y'][inds] ]"
   ]
  },
  {
   "cell_type": "code",
   "execution_count": null,
   "id": "836310f4-7850-432f-b963-16d380b1aefa",
   "metadata": {},
   "outputs": [],
   "source": [
    "L1_omni.keys()"
   ]
  },
  {
   "cell_type": "code",
   "execution_count": null,
   "id": "909dce81-1d58-4b64-ad4e-e6f285aa154b",
   "metadata": {},
   "outputs": [],
   "source": [
    "l1_b=np.column_stack(l1_b)\n",
    "l1_b"
   ]
  },
  {
   "cell_type": "markdown",
   "id": "5eb830e4-9786-4b94-b0e9-6a5c092e2665",
   "metadata": {},
   "source": [
    "Wind_data=pd.read_csv('Wind_April_solar_wind_data_4_4_8.csv')\n",
    "Wind_Br=Wind_data['Br']\n",
    "Wind_Br_dt=Wind_data['time']\n",
    "#Wind_lon=Wind_data['Wind 4_4_8 longitude array']\n",
    "#Wind_lat=Wind_data['Wind 4_4_8 latitude array']\n",
    "Wind_data"
   ]
  },
  {
   "cell_type": "code",
   "execution_count": null,
   "id": "8672a963-1422-45e4-a4ee-004ffc313235",
   "metadata": {},
   "outputs": [],
   "source": [
    "# Generate Trajectory for Earth\n",
    "earth_trajectory_inertial = spice.get_body('Earth', l1_br_dt)\n",
    "earth_trajectory_carrington = earth_trajectory_inertial.transform_to(HeliographicCarrington(observer=\"self\"))\n",
    "earth_trajectory_inertial.representation_type = \"spherical\"\n",
    "earth_trajectory_carrington.representation_type = \"spherical\""
   ]
  },
  {
   "cell_type": "code",
   "execution_count": null,
   "id": "e6429b86-c154-47e1-ad30-d13049fe8623",
   "metadata": {},
   "outputs": [],
   "source": [
    "# Generate Trajectory for Earth\n",
    "earth_trajectory_inertial_Vr = spice.get_body('Earth', l1_vr_dt)\n",
    "earth_trajectory_carrington_Vr = earth_trajectory_inertial_Vr.transform_to(HeliographicCarrington(observer=\"self\"))\n",
    "earth_trajectory_inertial_Vr.representation_type = \"spherical\"\n",
    "earth_trajectory_carrington_Vr.representation_type = \"spherical\"\n",
    "\n",
    "earth_projected_Vr=h.ballistically_project( earth_trajectory_carrington_Vr )"
   ]
  },
  {
   "cell_type": "code",
   "execution_count": null,
   "id": "7c88692c-97a1-48e8-9eeb-31e152a64784",
   "metadata": {},
   "outputs": [],
   "source": [
    "earth_projected_Vr\n",
    "\n",
    "#Exporting files\n",
    "export_Wind_v_4_7_13 = pd.DataFrame(data={'time': l1_n_dt, 'source_surface_longitude': earth_projected_Vr.lon, 'Br': l1_br, 'vp': l1_vr , 'wp': l1_w, 'np': l1_n , 'r^2':(earth_trajectory_carrington_Vr.radius.to(\"au\")**2)})\n",
    "export_Wind_v_4_7_13.to_csv(\"E20_Wind_source_surface_solar_wind_data.csv\", sep=',',index=False)\n"
   ]
  },
  {
   "cell_type": "markdown",
   "id": "2a861a05-4bb2-4848-be5e-0a9a37ee8452",
   "metadata": {},
   "source": [
    "### Solar Orbiter"
   ]
  },
  {
   "cell_type": "code",
   "execution_count": null,
   "id": "07afea77-efb4-454a-8137-c6ba57b0e3d8",
   "metadata": {},
   "outputs": [],
   "source": [
    "dt_start = datetime.datetime(2024,4,7)\n",
    "dt_end = datetime.datetime(2024,4,15)\n",
    "\n",
    "\n",
    "# Prepare search for MAG data files\n",
    "instrument = a.Instrument('MAG')\n",
    "time = a.Time(dt_start,dt_end)\n",
    "level = a.Level(2)\n",
    "product = a.soar.Product(\"MAG-RTN-NORMAL-1-MINUTE\".lower())\n",
    "\n",
    "# # Perform search for SWA-PAS data files\n",
    "result = Fido.search(instrument & time & level & product)\n",
    "files = sorted(Fido.fetch(result)) # sort to get in ascending date order\n",
    "\n",
    "## Load in CDF Files\n",
    "solo_mag = pytplot.cdf_to_tplot(files,notplot=True)\n",
    "solo_mag_rtn_normal_1min = solo_mag[\"B_RTN\"]\n",
    "solo_br_dt = pd.to_datetime(solo_mag_rtn_normal_1min['x']).to_pydatetime() # Datetimes\n",
    "solo_br_ts = np.array([dt.timestamp() for dt in solo_br_dt]) # Unix Timestamp (float)\n",
    "solo_br = solo_mag_rtn_normal_1min['y'][:,0]\n",
    "solo_b = solo_mag_rtn_normal_1min['y'][:,:]\n",
    "\n",
    "\n",
    "\n",
    "# Generate Trajectory for Solar Orbiter\n",
    "solo_trajectory_inertial = spice.get_body('SOLO', solo_br_dt)\n",
    "solo_trajectory_carrington = solo_trajectory_inertial.transform_to(HeliographicCarrington(observer=\"self\"))\n",
    "solo_trajectory_inertial.representation_type = \"spherical\"\n",
    "solo_trajectory_carrington.representation_type = \"spherical\""
   ]
  },
  {
   "cell_type": "code",
   "execution_count": null,
   "id": "da3326e5-6b29-4b1d-9996-bb7f94475396",
   "metadata": {},
   "outputs": [],
   "source": [
    "solo_b"
   ]
  },
  {
   "cell_type": "code",
   "execution_count": null,
   "id": "f00e505c-d774-4532-9d9b-95ec3a83b633",
   "metadata": {},
   "outputs": [],
   "source": [
    "### Solar Orbiter\n",
    "dt_start = datetime.datetime(2024,4,7)\n",
    "dt_end = datetime.datetime(2024,4,15)\n",
    "\n",
    "\n",
    "# PLASMA DATA\n",
    "\n",
    "# Prepare search for SWA-PAS data files\n",
    "instrument = a.Instrument('SWA')\n",
    "time = a.Time(dt_start, dt_end)\n",
    "level = a.Level(2)\n",
    "product = a.soar.Product('SWA-PAS-GRND-MOM'.lower())\n",
    "\n",
    "\n",
    "# # Perform search for SWA-PAS data files\n",
    "result = Fido.search(instrument & time & level & product)\n",
    "files = sorted(Fido.fetch(result)) # sort to get in ascending date order\n",
    "\n",
    "\n",
    "## Load in CDF Files\n",
    "\n",
    "#Speed\n",
    "solo_swa = pytplot.cdf_to_tplot(files,notplot=True)\n",
    "solo_swa_pas_V_RTN = solo_swa[\"V_RTN\"]\n",
    "solo_vr_dt = pd.to_datetime(solo_swa_pas_V_RTN['x']).to_pydatetime() # Datetimes\n",
    "solo_vr_ts = np.array([dt.timestamp() for dt in solo_vr_dt]) # Unix Timestamp (float)\n",
    "solo_vr = solo_swa_pas_V_RTN['y'][:,0]\n",
    "\n",
    "#Density\n",
    "solo_swa_pas_N = solo_swa[\"N\"]\n",
    "solo_n_dt = pd.to_datetime(solo_swa_pas_N['x']).to_pydatetime() # Datetimes\n",
    "solo_n_ts = np.array([dt.timestamp() for dt in solo_n_dt]) # Unix Timestamp (float)\n",
    "solo_n = solo_swa_pas_N['y']\n",
    "\n",
    "#Temperature\n",
    "solo_swa_pas_T = solo_swa[\"T\"]\n",
    "solo_T_dt = pd.to_datetime(solo_swa_pas_T['x']).to_pydatetime() # Datetimes\n",
    "solo_T_ts = np.array([dt.timestamp() for dt in solo_T_dt]) # Unix Timestamp (float)\n",
    "solo_T = solo_swa_pas_T['y']\n"
   ]
  },
  {
   "cell_type": "code",
   "execution_count": null,
   "id": "16127a69-b072-4497-ab67-4ca64867c3b6",
   "metadata": {},
   "outputs": [],
   "source": [
    "# Generate Trajectory for Solar Orbiter\n",
    "solo_trajectory_inertial_Vr = spice.get_body('SOLO', solo_vr_dt)\n",
    "solo_trajectory_carrington_Vr = solo_trajectory_inertial_Vr.transform_to(HeliographicCarrington(observer=\"self\"))\n",
    "solo_trajectory_inertial_Vr.representation_type = \"spherical\"\n",
    "solo_trajectory_carrington_Vr.representation_type = \"spherical\"\n",
    "\n",
    "solo_projected_Vr=h.ballistically_project( solo_trajectory_carrington_Vr )"
   ]
  },
  {
   "cell_type": "code",
   "execution_count": null,
   "id": "4bbfb3f4-5ca7-4ebc-892c-3b60c506562a",
   "metadata": {},
   "outputs": [],
   "source": [
    "#Export csv files of Br\n",
    "\n",
    "export_solo = pd.DataFrame(data={'time': solo_n_dt, 'source_surface_longitude': solo_projected_Vr.lon, 'np': solo_n, 'vp':solo_vr, 'wp': solo_T, 'r^2': (solo_trajectory_carrington_Vr.radius.to(\"au\")**2)})\n",
    "export_solo.to_csv(\"solo_source_surface_April_solar_wind_data_4_7_13.csv\", sep=',',index=False)"
   ]
  },
  {
   "cell_type": "markdown",
   "id": "fe85df4a-9c08-4a6b-abea-2ab5f18cc5ab",
   "metadata": {},
   "source": [
    "# radially scale Br"
   ]
  },
  {
   "cell_type": "code",
   "execution_count": null,
   "id": "343c3802-2d12-42d5-83e4-bd8d3acd7f9b",
   "metadata": {},
   "outputs": [],
   "source": [
    "Parker_br_r_squared=merged_3_4_br*((parker_trajectory_carrington.radius.to(\"au\")**2).value)\n",
    "l1_br_r_squared=l1_br*((earth_trajectory_carrington.radius.to(\"au\")**2).value)\n",
    "solo_br_r_squared=solo_br*((solo_trajectory_carrington.radius.to(\"au\")**2).value)\n",
    "\n",
    "print(Parker_br_r_squared)\n",
    "print(l1_br_r_squared)\n",
    "print(solo_br_r_squared)"
   ]
  },
  {
   "cell_type": "markdown",
   "id": "ae84eea2-7496-4e47-b82b-2983d2fc8853",
   "metadata": {},
   "source": [
    "# cartesian coordinates\n"
   ]
  },
  {
   "cell_type": "code",
   "execution_count": null,
   "id": "42ae6716-bfbd-45b7-9ee5-6f347daf1977",
   "metadata": {},
   "outputs": [],
   "source": [
    "parker_trajectory_carrington.representation_type = \"cartesian\"\n",
    "\n",
    "# Convert Cartesian coordinates to solar radii (R_sun)\n",
    "X_parker = (parker_trajectory_carrington.x).value  \n",
    "Y_parker = (parker_trajectory_carrington.y).value  \n",
    "Z_parker = (parker_trajectory_carrington.z).value  \n",
    "X_parker"
   ]
  },
  {
   "cell_type": "code",
   "execution_count": null,
   "id": "f6077d44-fab6-4882-95f3-7a6e665d23cf",
   "metadata": {},
   "outputs": [],
   "source": [
    "earth_trajectory_carrington.representation_type = \"cartesian\"\n",
    "\n",
    "\n",
    "X_l1 = ((earth_trajectory_carrington.x).value)/696340\n",
    "Y_l1 = ((earth_trajectory_carrington.y).value)/696340\n",
    "Z_l1 = ((earth_trajectory_carrington.z).value)/696340\n",
    "X_l1"
   ]
  },
  {
   "cell_type": "code",
   "execution_count": null,
   "id": "71e62c50-d347-4200-a5c3-c82483a0bb9d",
   "metadata": {},
   "outputs": [],
   "source": [
    "solo_trajectory_carrington.representation_type = \"cartesian\"\n",
    "\n",
    "\n",
    "X_solo = ((solo_trajectory_carrington.x).value)/696340\n",
    "Y_solo = ((solo_trajectory_carrington.y).value)/696340\n",
    "Z_solo = ((solo_trajectory_carrington.z).value)/696340\n",
    "X_solo"
   ]
  },
  {
   "cell_type": "code",
   "execution_count": null,
   "id": "b92135b0-4727-4d8a-8d6c-53a0eb24bf72",
   "metadata": {},
   "outputs": [],
   "source": [
    "# Example magnetic field data (Br) for color mapping\n",
    "Br_parker = br_r_squared  # Ensure the magnetic field data is filtered and ready\n",
    "Br_l1=l1_br_r_squared\n",
    "Br_solo=solo_br_r_squared\n",
    "\n",
    "# Create a scatter plot in Cartesian coordinates (X, Y)\n",
    "fig, ax = plt.subplots()\n",
    "\n",
    "# Create the scatter plot with magnetic field as color (Br)\n",
    "scatter_parker = ax.scatter(X_parker[::50], Y_parker[::50], c=Br_parker[::50], vmin=-5, vmax=5, s=20, cmap='bwr')\n",
    "scatter_l1 = ax.scatter(X_l1[::50], Y_l1[::50], c=Br_l1[::50], vmin=-5, vmax=5, s=20, cmap='bwr')\n",
    "scatter_solo = ax.scatter(X_solo[::50], Y_solo[::50], c=Br_solo[::50], vmin=-5, vmax=5, s=20, cmap='bwr')\n",
    "\n",
    "\n",
    "# Add color bar to represent the magnetic field\n",
    "plt.colorbar(scatter_parker, ax=ax, label='Magnetic Field (Br)*R^2')\n",
    "\n",
    "# Set equal scaling for the axes to preserve the spatial relationships\n",
    "ax.set_aspect('equal')\n",
    "\n",
    "# Add circular grids\n",
    "radii = np.arange(0, 260, 30)  # Example radii in R_sun, adjust as needed\n",
    "for radius in radii:\n",
    "    circle = plt.Circle((0, 0), radius, color='gray', fill=False, linestyle='--', alpha=0.5)\n",
    "    ax.add_patch(circle)\n",
    "\n",
    "# Set x-axis ticks at 30 unit intervals (or whatever interval you need)\n",
    "#ax.set_xticks(np.arange(0, np.max(X_l1), 10))  # Adjust max_value_x as needed\n",
    "#ax.set_yticks(np.arange(0, np.max(Y_l1), 10))  # Adjust max_value_y as needed\n",
    "# Customize gridlines\n",
    "#ax.grid(which='both', axis='both', linestyle='--', linewidth=0.75)\n",
    "\n",
    "#ax.grid(True)\n",
    "\n",
    "\n",
    "# Draw diagonal lines (spokes) to divide the circles at regular intervals\n",
    "angles = np.linspace(0, 2 * np.pi, 13)  # Angles in radians\n",
    "\n",
    "for angle in angles:\n",
    "    # Calculate x and y coordinates for the diagonal lines (spokes)\n",
    "    x_vals = [0, 260 * np.cos(angle)]  # End point of the spoke\n",
    "    y_vals = [0, 260 * np.sin(angle)]  # End point of the spoke\n",
    "    ax.plot(x_vals, y_vals, color='grey', linestyle=':')\n",
    "\n",
    "\n",
    "\n",
    "# Set limits for the axes\n",
    "ax.set_xlim(-100, 250)\n",
    "ax.set_ylim(-30, 250)\n",
    "\n",
    "\n",
    "\n",
    "# Add title and labels (customize as needed)\n",
    "#ax.set_title('Br * R^2 projected onto Solar Equatorial Plane (Cartesian in Solar Radii)')\n",
    "ax.set_xlabel('X (R_sun)')\n",
    "ax.set_ylabel('Y (R_sun)')\n",
    "\n",
    "# Save the plot\n",
    "#plt.savefig('E19_trajectory_2024_XY_projection_cartesian_Rsun.png')\n",
    "\n",
    "# Show the plot\n",
    "plt.show()"
   ]
  },
  {
   "cell_type": "markdown",
   "id": "02267c0b-d7fb-4bfe-a9c5-a5f1dcf59b10",
   "metadata": {},
   "source": [
    "\n",
    "import numpy as np\n",
    "import matplotlib.pyplot as plt\n",
    "from astropy.constants import R_sun  # Import the solar radius constant\n",
    "\n",
    "# Change the representation type to Cartesian for easier access to X, Y, Z coordinates\n",
    "parker_trajectory_carrington.representation_type = \"cartesian\"\n",
    "\n",
    "# Convert Cartesian coordinates to solar radii (R_sun)\n",
    "X = (parker_trajectory_carrington.x / R_sun).value  # Convert X to R_sun\n",
    "Y = (parker_trajectory_carrington.y / R_sun).value  # Convert Y to R_sun\n",
    "Z = (parker_trajectory_carrington.z / R_sun).value  # Convert Z to R_sun, optional if needed\n",
    "\n",
    "# Example magnetic field data (Br) for color mapping\n",
    "Br = br_r_squared  # Ensure the magnetic field data is filtered and ready\n",
    "\n",
    "\n",
    "# Create a scatter plot in Cartesian coordinates (X, Y)\n",
    "fig, ax = plt.subplots()\n",
    "#fig, ax = plt.subplots(subplot_kw={'projection': 'polar'})\n",
    "\n",
    "# Create the scatter plot with magnetic field as color (Br)\n",
    "scatter = ax.scatter(X, Y, c=Br, cmap='bwr', s=50)\n",
    "\n",
    "# Add color bar to represent the magnetic field\n",
    "plt.colorbar(scatter, ax=ax, label='Magnetic Field (Br)')\n",
    "\n",
    "# Set equal scaling for the axes to preserve the spatial relationships\n",
    "ax.set_aspect('equal')\n",
    "\n",
    "# Add title and labels (customize as needed)\n",
    "ax.set_title('Br * R^2 projected onto Solar Equatorial Plane (Cartesian in Solar Radii)')\n",
    "ax.set_xlabel('X (R_sun)')\n",
    "ax.set_ylabel('Y (R_sun)')\n",
    "\n",
    "# Save the plot\n",
    "plt.savefig('E19_trajectory_2024_XY_projection_cartesian_Rsun.png')\n",
    "\n",
    "# Show the plot\n",
    "plt.show()"
   ]
  },
  {
   "cell_type": "markdown",
   "id": "b57500b9-2e49-48b6-b2ac-53c1183427b7",
   "metadata": {},
   "source": [
    "# Ballistic mapping to 2.5Rsun"
   ]
  },
  {
   "cell_type": "code",
   "execution_count": null,
   "id": "c4e331b2-4b0b-4879-8602-f2daf75a7afd",
   "metadata": {},
   "outputs": [],
   "source": [
    "#parker_trajectory_carrington.representation_type = \"spherical\"\n",
    "\n",
    "parker_projected = h.ballistically_project(parker_trajectory_carrington)\n",
    "solo_projected = h.ballistically_project(solo_trajectory_carrington)\n",
    "earth_projected = h.ballistically_project(earth_trajectory_carrington)"
   ]
  },
  {
   "cell_type": "markdown",
   "id": "9b77692f-5ad7-44be-a81b-0996670866c6",
   "metadata": {},
   "source": [
    "#For speed\n",
    "\n",
    "#parker_trajectory_carrington.representation_type = \"spherical\"\n",
    "\n",
    "parker_projected_Vr = h.ballistically_project(parker_trajectory_carrington_Vr)\n",
    "solo_projected_Vr = h.ballistically_project(solo_trajectory_carrington_Vr)\n",
    "earth_projected_Vr = h.ballistically_project(earth_trajectory_carrington_Vr)"
   ]
  },
  {
   "cell_type": "code",
   "execution_count": null,
   "id": "ac2ae0e6-f122-40ca-bc7c-dc80c7ad1c42",
   "metadata": {},
   "outputs": [],
   "source": [
    "parker_projected"
   ]
  },
  {
   "cell_type": "code",
   "execution_count": null,
   "id": "69c8f6dc-901e-4c51-910e-f349265349f9",
   "metadata": {},
   "outputs": [],
   "source": [
    "plt.style.use('default')\n",
    "parker_trajectory_carrington.representation_type = \"spherical\"\n",
    "earth_trajectory_carrington.representation_type = \"spherical\"\n",
    "\n",
    " \n",
    "lon = np.radians(parker_trajectory_carrington.lon.value)  # Convert longitude to radians\n",
    "r = ((parker_trajectory_carrington.radius.to(\"au\")**2).value)  # Radial distance\n",
    "lat = parker_trajectory_carrington.lat.value  # Latitude\n",
    "Br = Parker_br_r_squared  # Magnetic field (Br) for color mapping\n",
    "\n",
    "\n",
    " \n",
    "l1_lon = np.radians(earth_trajectory_carrington.lon.value)  # Convert longitude to radians\n",
    "l1_r = ((earth_trajectory_carrington.radius.to(\"au\")**2).value)  # Radial distance\n",
    "l1_lat = earth_trajectory_carrington.lat.value  # Latitude\n",
    "l1_Br = l1_br_r_squared  # Magnetic field (Br) for color mapping\n",
    "\n",
    "\n",
    "solo_lon = np.radians(solo_trajectory_carrington.lon.value)  # Convert longitude to radians\n",
    "solo_r = ((solo_trajectory_carrington.radius.to(\"au\")**2).value)  # Radial distance\n",
    "solo_lat = solo_trajectory_carrington.lat.value  # Latitude\n",
    "solo_Br = solo_br_r_squared  # Magnetic field (Br) for color mapping\n",
    "\n",
    "\n",
    "\n",
    "# Create a combined mask to remove NaNs from all arrays and apply any necessary filtering\n",
    "#mask = (~np.isnan(parker_projected.lon)) & (~np.isnan(Br)) & (Br <= 5)\n",
    "\n",
    "fig, ax = plt.subplots()\n",
    "\n",
    "\n",
    "# Your scatter plot with blue-red colormap\n",
    "scatter = ax.scatter(parker_projected.lon[::50], parker_projected.lat[::50], \n",
    "                      c=Br[::50], vmin=-5, vmax=5, s=5, cmap='bwr')\n",
    "\n",
    "# Your scatter plot with blue-red colormap\n",
    "scatter = ax.scatter(earth_projected.lon[::50], earth_projected.lat[::50], \n",
    "                      c=l1_Br[::50], vmin=-5, vmax=5, s=5, cmap='bwr')\n",
    "\n",
    "# Your scatter plot with blue-red colormap\n",
    "scatter = ax.scatter(solo_projected.lon[::50], solo_projected.lat[::50], \n",
    "                      c=solo_Br[::50], vmin=-5, vmax=5, s=5, cmap='bwr')\n",
    "\n",
    "\n",
    "# Your scatter plot with blue-red colormap\n",
    "#scatter = ax.scatter(parker_trajectory_carrington.lon[::50], parker_trajectory_carrington.lat[::50], \n",
    "                     # c=Br[::50], vmin=-5, vmax=5, s=5, cmap='bwr')\n",
    "\n",
    "# Add color bar on the right\n",
    "plt.colorbar(scatter, ax=ax, label='(Br)*r^2')\n",
    "plt.gca().invert_xaxis()\n",
    "\n",
    "\n",
    "plt.xlabel('Source Surface longitude')\n",
    "plt.ylabel('HG latitude')\n",
    "plt.title('March-April 2024: Lat vs Source Surface Lon for PSP')\n",
    "plt.savefig('Ballistic_March-April 2024: Lat vs Lon for PSP.png')\n",
    "plt.show()"
   ]
  },
  {
   "cell_type": "code",
   "execution_count": null,
   "id": "dd3217e9-c69a-4cf9-b695-7d568fd4571a",
   "metadata": {},
   "outputs": [],
   "source": [
    "x"
   ]
  },
  {
   "cell_type": "code",
   "execution_count": null,
   "id": "bad81df0-a226-48b7-9585-46d58adbbdc0",
   "metadata": {},
   "outputs": [],
   "source": [
    "#Speed plots\n",
    "\n",
    "plt.style.use('default')\n",
    "parker_trajectory_carrington_Vr.representation_type = \"spherical\"\n",
    "earth_trajectory_carrington_Vr.representation_type = \"spherical\"\n",
    "\n",
    " \n",
    "lon_Vr = np.radians(parker_trajectory_carrington_Vr.lon.value)  # Convert longitude to radians\n",
    "r_Vr = ((parker_trajectory_carrington_Vr.radius.to(\"au\")**2).value)  # Radial distance\n",
    "lat_Vr = parker_trajectory_carrington_Vr.lat.value  # Latitude\n",
    "#parker_vr[np.isnan(parker_vr)] = np.interp(np.flatnonzero(np.isnan(parker_vr)), np.flatnonzero(~np.isnan(parker_vr)), parker_vr[~np.isnan(parker_vr)])\n",
    "parker_vr = np.interp(np.arange(parker_vr.size), np.arange(parker_vr.size)[~np.isnan(parker_vr)], parker_vr[~np.isnan(parker_vr)])\n",
    "\n",
    "Vr = parker_vr #Vr for color mapping\n",
    " \n",
    "l1_lon_Vr = np.radians(earth_trajectory_carrington_Vr.lon.value)  # Convert longitude to radians\n",
    "l1_r_Vr = ((earth_trajectory_carrington_Vr.radius.to(\"au\")**2).value)  # Radial distance\n",
    "l1_lat_Vr = earth_trajectory_carrington_Vr.lat.value  # Latitude\n",
    "l1_Vr = l1_vr  # Vr for color mapping\n",
    "\n",
    "\n",
    "solo_lon_Vr = np.radians(solo_trajectory_carrington_Vr.lon.value)  # Convert longitude to radians\n",
    "solo_r_Vr = ((solo_trajectory_carrington_Vr.radius.to(\"au\")**2).value)  # Radial distance\n",
    "solo_lat_Vr = solo_trajectory_carrington_Vr.lat.value  # Latitude\n",
    "solo_Vr = solo_vr  # Vr for color mapping\n",
    "\n",
    "\n",
    "\n",
    "# Create a combined mask to remove NaNs from all arrays and apply any necessary filtering\n",
    "#mask = (~np.isnan(parker_projected.lon)) & (~np.isnan(Br)) & (Br <= 5)\n",
    "\n",
    "fig, ax = plt.subplots()\n",
    "\n",
    "\n",
    "# Your scatter plot with blue-red colormap\n",
    "scatter = ax.scatter(parker_projected_Vr.lon[::50], parker_projected_Vr.lat[::50], \n",
    "                      c=Vr[::50], s=5, cmap='inferno')\n",
    "\n",
    "\n",
    "\n",
    "# Your scatter plot with blue-red colormap\n",
    "scatter = ax.scatter(earth_projected_Vr.lon[::50], earth_projected_Vr.lat[::50], \n",
    "                      c=l1_Vr[::50],  s=5, cmap='inferno')\n",
    "\n",
    "# Your scatter plot with blue-red colormap\n",
    "scatter = ax.scatter(solo_projected_Vr.lon[::50], solo_projected_Vr.lat[::50], \n",
    "                      c=solo_Vr[::50], s=5, cmap='inferno')\n",
    "\n",
    "\n",
    "\n",
    "# Your scatter plot with blue-red colormap\n",
    "#scatter = ax.scatter(parker_trajectory_carrington.lon[::50], parker_trajectory_carrington.lat[::50], \n",
    "                     # c=Br[::50], vmin=-5, vmax=5, s=5, cmap='bwr')\n",
    "\n",
    "# Add color bar on the right\n",
    "plt.colorbar(scatter, ax=ax, label='Vr(km/s)')\n",
    "\n",
    "\n",
    "\n",
    "plt.xlabel('Source Surface longitude')\n",
    "plt.ylabel('HG Longitude latitude')\n",
    "plt.title('March-April 2024: Lat vs Source Surface Lon for PSP')\n",
    "plt.savefig('speed_Ballistic_March-April 2024: Lat vs Lon for PSP.png')\n",
    "plt.show()"
   ]
  },
  {
   "cell_type": "code",
   "execution_count": null,
   "id": "b953fd90-608b-4a3b-963d-18e27f109ad1",
   "metadata": {},
   "outputs": [],
   "source": [
    "plt.plot(parker_vr)"
   ]
  },
  {
   "cell_type": "code",
   "execution_count": null,
   "id": "30e45a27-61c4-4271-8423-c82bc8ccae48",
   "metadata": {},
   "outputs": [],
   "source": []
  },
  {
   "cell_type": "code",
   "execution_count": null,
   "id": "c543cde8-64e1-4d40-9bee-d9594d04e67d",
   "metadata": {},
   "outputs": [],
   "source": [
    "# Create a subplot with polar projection\n",
    "fig, ax = plt.subplots(subplot_kw={'projection': 'polar'})\n",
    "\n",
    "# Create the scatter plot with magnetic field as color (Br)\n",
    "scatter_1 = ax.scatter(lon[::50], r[::50], c=Br[::50], vmin=-5, vmax=5, cmap='bwr', s=10)\n",
    "\n",
    "scatter_2 = ax.scatter(l1_lon[::50], l1_r[::50], c=l1_Br[::50], vmin=-5, vmax=5, cmap='bwr', s=10)\n",
    "\n",
    "scatter_3 = ax.scatter(solo_lon[::50], solo_r[::50], c=solo_Br[::50], vmin=-5, vmax=5, cmap='bwr', s=10)\n",
    "\n",
    "\n",
    "# Add color bar to represent the magnetic field\n",
    "plt.colorbar(scatter_1, ax=ax, label='(Br)*r^2')\n",
    "\n",
    "\n",
    "# Set more theta gridlines (12 divisions: 30° intervals)\n",
    "ax.set_xticks(np.linspace(0, 2*np.pi, 13))  # 12 angular divisions (30° steps)\n",
    "#ax.tick_params(axis='x', labelsize=16)\n",
    "\n",
    "# Set radial scale to logarithmic\n",
    "ax.set_rscale('log')\n",
    "\n",
    "# Set radial limits to zoom in and make the inner points more visible\n",
    "ax.set_rlim(0, np.nanmax(l1_r)*2)  # Log scale can't have zero or negative values\n",
    "\n",
    "# Optionally, customize radial ticks in a logarithmic scale\n",
    "#ax.set_yticks([0.1, 1, 10, 100, 1000])  # Adjust ticks based on the data range\n",
    "\n",
    "\n",
    "\n",
    "\n",
    "#plt.savefig('log_E19_trajectory_2024 Lat vs Lon for PSP.png')\n",
    "                               \n",
    "# Show the plot\n",
    "plt.show()\n"
   ]
  },
  {
   "cell_type": "code",
   "execution_count": null,
   "id": "43a58fd7-2482-402e-8fdb-11b27033dca9",
   "metadata": {},
   "outputs": [],
   "source": [
    "# Create a subplot with polar projection\n",
    "fig, ax = plt.subplots(subplot_kw={'projection': 'polar'})\n",
    "\n",
    "# Create the scatter plot with magnetic field as color (Br)\n",
    "scatter_1 = ax.scatter(lon[::50], r[::50], c=Br[::50], vmin=-5, vmax=5, cmap='bwr', s=5)\n",
    "\n",
    "scatter_2 = ax.scatter(l1_lon[::50], l1_r[::50], c=l1_Br[::50], vmin=-5, vmax=5, cmap='bwr', s=5)\n",
    "\n",
    "scatter_3 = ax.scatter(solo_lon[::50], solo_r[::50], c=solo_Br[::50], vmin=-5, vmax=5, cmap='bwr', s=5)\n",
    "\n",
    "\n",
    "# Add color bar to represent the magnetic field\n",
    "plt.colorbar(scatter_1, ax=ax, label='(Br)*r^2')\n",
    "\n",
    "\n",
    "# Set more theta gridlines (12 divisions: 30° intervals)\n",
    "ax.set_xticks(np.linspace(0, 2*np.pi, 13))  # 12 angular divisions (30° steps)\n",
    "#ax.tick_params(axis='x', labelsize=16)\n",
    "\n",
    "\n",
    "# Set more radial gridlines (6 radial divisions)\n",
    "ax.set_yticks(np.linspace(-0.2, np.nanmax(l1_r)*1.2, 6))  # 6 radial divisions\n",
    "\n",
    "# Set radial limits to zoom in and make the inner points more visible\n",
    "ax.set_rlim(-0.2, np.nanmax(l1_r)*1.2)  \n",
    "\n",
    "\n",
    "# Example of adding text labels (adjust coordinates and text as needed)\n",
    "#ax.text(np.pi/4, 0.05, 'Label 1', color='black', fontsize=10)  # theta = pi/4, r = 0.05\n",
    "#ax.text(np.pi/2, 0.08, 'Label 2', color='black', fontsize=10)  # theta = pi/2, r = 0.08\n",
    "#ax.text(3*np.pi/4, 0.06, 'Label 3', color='black', fontsize=10)  # theta = 3*pi/4, r = 0.06\n",
    "\n",
    "\n",
    "### Label for 'March 30' (lon=129 -> 'March 30')\n",
    "# Convert lon=129 degrees to radians\n",
    "specific_lon_value_1 = np.deg2rad(129)\n",
    "# Find the index of the closest lon value\n",
    "closest_index_1 = np.argmin(np.abs(lon - specific_lon_value_1))\n",
    "# Get the corresponding r value\n",
    "specific_r_value_1 = r[closest_index_1]\n",
    "# Add a small radial offset (e.g., 0.01) to ensure visibility\n",
    "ax.text(specific_lon_value_1, specific_r_value_1 , 'March 30', color='black', fontsize=100)\n",
    "\n",
    "### Label for the second dataset (l1_lon=69 -> 'April 4')\n",
    "# Convert l1_lon=69 degrees to radians\n",
    "specific_lon_value_2 = np.deg2rad(69)\n",
    "# Find the index of the closest l1_lon value\n",
    "closest_index_2 = np.argmin(np.abs(l1_lon - specific_lon_value_2))\n",
    "# Get the corresponding l1_r value\n",
    "specific_r_value_2 = l1_r[closest_index_2]\n",
    "# Add the text label 'April 4'\n",
    "#ax.text(specific_lon_value_2, specific_r_value_2, 'April 4', color='black', fontsize=20)\n",
    "\n",
    "\n",
    "\n",
    "\n",
    "\n",
    "# Add title and labels (customize as needed)\n",
    "#ax.set_title('Br * R^2 with Magnetic Field Br (Filtered)')\n",
    "\n",
    "#plt.savefig('E19_trajectory_2024 Lat vs Lon for PSP.png')\n",
    "                               \n",
    "# Show the plot\n",
    "plt.show()\n"
   ]
  },
  {
   "cell_type": "markdown",
   "id": "aa7fc091-3398-4f5e-af7b-08238cc446f4",
   "metadata": {},
   "source": [
    "# 3D"
   ]
  },
  {
   "cell_type": "code",
   "execution_count": null,
   "id": "022dfb17-303f-4b5d-a3de-08050f14037a",
   "metadata": {},
   "outputs": [],
   "source": [
    "from mpl_toolkits.mplot3d import Axes3D\n",
    "\n",
    "# Create a 3D plot\n",
    "fig = plt.figure()\n",
    "ax = fig.add_subplot(111, projection='3d')\n",
    "\n",
    "# Create scatter plot where x=lon, y=r, z=lat, and color=c(Br)\n",
    "scatter = ax.scatter(lon[::50], r[::50], lat[::50], vmin=-5, vmax=5, c=Br[::50], cmap='bwr', s=50)\n",
    "\n",
    "# Add color bar for Br\n",
    "cbar = fig.colorbar(scatter, ax=ax)\n",
    "cbar.set_label('(Br)*r^2')\n",
    "\n",
    "# Set axis labels\n",
    "ax.set_xlabel('Longitude')\n",
    "ax.set_ylabel('Radial Distance (r)')\n",
    "ax.set_zlabel('Latitude')\n",
    "\n",
    "#plt.savefig('3D_Lat vs Lon for PSP.png')\n",
    "\n",
    "# Show plot\n",
    "plt.show()\n"
   ]
  },
  {
   "cell_type": "markdown",
   "id": "7e64df25-bde2-48e7-baa1-1677e26ab4b8",
   "metadata": {},
   "source": [
    "fig, (ax1, ax2) = plt.subplots(1, 2, subplot_kw={'projection': 'polar'}, figsize=(10, 5))\n",
    "\n",
    "# First subplot for the first dataset (ax1)\n",
    "scatter1 = ax1.scatter(lon[::50], r[::50], c=Br[::50], vmin=-5, vmax=5, cmap='bwr', s=100)\n",
    "ax1.set_rlim(np.nanmin(r), np.nanmax(r))  # Set radial limits for the first dataset\n",
    "ax1.set_xticks(np.linspace(0, 2*np.pi, 13))  # 12 angular divisions (30° steps)\n",
    "ax1.tick_params(axis='x', labelsize=16)\n",
    "ax1.set_title('First Dataset')\n",
    "\n",
    "# Second subplot for the second dataset (ax2)\n",
    "scatter2 = ax2.scatter(l1_lon[::50], l1_r[::50], c=l1_Br[::50], vmin=-5, vmax=5, cmap='bwr', s=100)\n",
    "ax2.set_rlim(np.nanmin(l1_r), np.nanmax(l1_r))  # Set radial limits for the second dataset\n",
    "ax2.set_xticks(np.linspace(0, 2*np.pi, 13))  # 12 angular divisions (30° steps)\n",
    "ax2.tick_params(axis='x', labelsize=16)\n",
    "ax2.set_title('Second Dataset')\n",
    "\n",
    "# Add color bars (for each subplot if needed)\n",
    "plt.colorbar(scatter1, ax=ax1, label='(Br)*r^2')  # For first dataset\n",
    "plt.colorbar(scatter2, ax=ax2, label='(Br)*r^2')  # For second dataset\n",
    "\n",
    "### Label for the first dataset (ax1, lon=129 -> 'March 30')\n",
    "specific_lon_value_1 = np.deg2rad(129)  # lon=129 degrees\n",
    "specific_r_value_1 = r[np.argmin(np.abs(lon - specific_lon_value_1))]\n",
    "ax1.text(specific_lon_value_1, specific_r_value_1 + 0.01, 'March 30', color='black', fontsize=10)\n",
    "\n",
    "### Label for the second dataset (ax2, l1_lon=69 -> 'April 4')\n",
    "specific_lon_value_2 = np.deg2rad(69)  # l1_lon=69 degrees\n",
    "specific_r_value_2 = l1_r[np.argmin(np.abs(l1_lon - specific_lon_value_2))]\n",
    "ax2.text(specific_lon_value_2, specific_r_value_2, 'April 4', color='black', fontsize=10)\n",
    "\n",
    "# Show the plots\n",
    "plt.show()\n"
   ]
  },
  {
   "cell_type": "markdown",
   "id": "227b02f0-ecb3-4b2c-adbd-91e24b629b9c",
   "metadata": {},
   "source": [
    "# Without Ballistic Mapping"
   ]
  },
  {
   "cell_type": "code",
   "execution_count": null,
   "id": "e73ee6df-3873-4682-8f87-0495699e4587",
   "metadata": {},
   "outputs": [],
   "source": [
    "#plt.style.use('default')\n",
    "parker_trajectory_carrington.representation_type = \"spherical\"\n",
    "earth_trajectory_carrington.representation_type = \"spherical\"\n",
    "\n",
    "\n",
    "fig, ax = plt.subplots()\n",
    "# Your scatter plot with blue-red colormap\n",
    "scatter = ax.scatter(parker_trajectory_carrington.lon[::50], parker_trajectory_carrington.lat[::50], \n",
    "                      c=Br[::50], vmin=-5, vmax=5, s=5, cmap='bwr')\n",
    "\n",
    "scatter = ax.scatter(earth_trajectory_carrington.lon[::50], earth_trajectory_carrington.lat[::50], \n",
    "                      c=Br_l1[::50], vmin=-5, vmax=5, s=5, cmap='bwr')\n",
    "\n",
    "scatter = ax.scatter(solo_trajectory_carrington.lon[::50], solo_trajectory_carrington.lat[::50], \n",
    "                      c=Br_solo[::50], vmin=-5, vmax=5, s=5, cmap='bwr')\n",
    "\n",
    "\n",
    "# Add color bar on the right\n",
    "plt.colorbar(scatter, ax=ax, label='(Br)*r^2')\n",
    "\n",
    "\n",
    "\n",
    "plt.xlabel('HG longitude')\n",
    "plt.ylabel('HG latitude')\n",
    "plt.title('March-April 2024: Lat vs Lon for PSP')\n",
    "#plt.savefig('March-April 2024: Lat vs Lon for PSP.png')\n",
    "plt.show()"
   ]
  },
  {
   "cell_type": "code",
   "execution_count": null,
   "id": "1c9cf0b4-2e98-4056-9fe9-788d4f7ecd9e",
   "metadata": {},
   "outputs": [],
   "source": [
    "len(lon)"
   ]
  },
  {
   "cell_type": "code",
   "execution_count": null,
   "id": "06f75cfe-9651-4c4d-8fd3-6975595445a1",
   "metadata": {},
   "outputs": [],
   "source": [
    "len(Br)"
   ]
  },
  {
   "cell_type": "code",
   "execution_count": null,
   "id": "04891204-1dd0-4982-81a4-72d0f332c81d",
   "metadata": {},
   "outputs": [],
   "source": [
    "len(r)"
   ]
  },
  {
   "cell_type": "code",
   "execution_count": null,
   "id": "d5074bd7-fa08-4a92-bced-59666f9d8f9d",
   "metadata": {},
   "outputs": [],
   "source": [
    "x"
   ]
  },
  {
   "cell_type": "code",
   "execution_count": null,
   "id": "2c317d2e-a57e-4725-b39e-cd9d29cba8e3",
   "metadata": {},
   "outputs": [],
   "source": [
    "earth_trajectory_carrington.representation_type = \"spherical\""
   ]
  },
  {
   "cell_type": "code",
   "execution_count": null,
   "id": "7cf32f61-346f-43b4-8549-b5ca08d8f98f",
   "metadata": {},
   "outputs": [],
   "source": [
    "(earth_trajectory_carrington.radius.to(\"au\")**2)"
   ]
  },
  {
   "cell_type": "code",
   "execution_count": null,
   "id": "ca7e6afa-0ec8-4260-9ad6-84313b0e69b3",
   "metadata": {},
   "outputs": [],
   "source": [
    "(earth_projected.radius.to(\"au\")**2)"
   ]
  },
  {
   "cell_type": "code",
   "execution_count": null,
   "id": "49c9adfe-edd8-442b-b566-0c62372ea320",
   "metadata": {},
   "outputs": [],
   "source": [
    "#parker \n",
    "\n",
    "merged_29_30_br_dt = np.concatenate(( parker_br_dt_29, parker_br_dt_30 ))\n",
    "merged_29_30_br = np.concatenate(( parker_br_29, parker_br_30 ))\n",
    "merged_29_30_b = np.concatenate(( parker_b_29, parker_b_30 )) #all bx,by,bz\n",
    "\n",
    "merged_17_21_br_dt = np.concatenate(( parker_br_dt_17, parker_br_dt_18, parker_br_dt_19, parker_br_dt_20, parker_br_dt_21 ))\n",
    "merged_17_21_br = np.concatenate(( parker_br_17, parker_br_18, parker_br_19, parker_br_20, parker_br_21 ))\n",
    "merged_17_21_b = np.concatenate(( parker_b_17, parker_b_18, parker_b_19, parker_b_20, parker_b_21 ))\n",
    "\n",
    "\n",
    "merged_4_7_13_br_dt = np.concatenate(( parker_br_dt_4_7, parker_br_dt_4_8, parker_br_dt_4_9, parker_br_dt_4_10, parker_br_dt_4_11, parker_br_dt_4_12, parker_br_dt_4_13,parker_br_dt_4_14 ))\n",
    "merged_4_7_13_br = np.concatenate(( parker_br_4_7, parker_br_4_8, parker_br_4_9, parker_br_4_10, parker_br_4_11, parker_br_4_12, parker_br_4_13,parker_br_4_14 ))\n",
    "merged_4_7_13_b = np.concatenate(( parker_b_4_7, parker_b_4_8, parker_b_4_9, parker_b_4_10, parker_b_4_11, parker_b_4_12, parker_b_4_13,parker_b_4_14 ))\n"
   ]
  },
  {
   "cell_type": "code",
   "execution_count": null,
   "id": "25537c32-be5d-4728-8485-64783ef8fb0b",
   "metadata": {},
   "outputs": [],
   "source": [
    "# Generate Trajectory for Earth\n",
    "parker_trajectory_inertial_br_29_30 = spice.get_body('SPP', merged_29_30_br_dt)\n",
    "parker_trajectory_carrington_br_29_30 = parker_trajectory_inertial_br_29_30.transform_to(HeliographicCarrington(observer=\"self\"))\n",
    "parker_trajectory_inertial_br_29_30.representation_type = \"spherical\"\n",
    "parker_trajectory_carrington_br_29_30.representation_type = \"spherical\"\n",
    "\n",
    "parker_projected_br_29_30 = h.ballistically_project(parker_trajectory_carrington_br_29_30)\n"
   ]
  },
  {
   "cell_type": "code",
   "execution_count": null,
   "id": "fc6b7c20-a99f-4dfc-971b-f41a26b562c1",
   "metadata": {},
   "outputs": [],
   "source": [
    "# Generate Trajectory \n",
    "parker_trajectory_inertial_br_17_21 = spice.get_body('SPP', merged_17_21_br_dt)\n",
    "parker_trajectory_carrington_br_17_21 = parker_trajectory_inertial_br_17_21.transform_to(HeliographicCarrington(observer=\"self\"))\n",
    "parker_trajectory_inertial_br_17_21.representation_type = \"spherical\"\n",
    "parker_trajectory_carrington_br_17_21.representation_type = \"spherical\"\n",
    "\n",
    "parker_projected_br_17_21 = h.ballistically_project(parker_trajectory_carrington_br_17_21)\n"
   ]
  },
  {
   "cell_type": "code",
   "execution_count": null,
   "id": "744b1489-9e47-48c9-9b1e-5e5be185fe04",
   "metadata": {},
   "outputs": [],
   "source": [
    "# Generate Trajectory \n",
    "parker_trajectory_inertial_br = spice.get_body('SPP', merged_4_7_13_br_dt)\n",
    "parker_trajectory_carrington_br = parker_trajectory_inertial_br.transform_to(HeliographicCarrington(observer=\"self\"))\n",
    "parker_trajectory_inertial_br.representation_type = \"spherical\"\n",
    "parker_trajectory_carrington_br.representation_type = \"spherical\"\n",
    "\n",
    "parker_projected_br = h.ballistically_project(parker_trajectory_carrington_br)\n"
   ]
  },
  {
   "cell_type": "markdown",
   "id": "3c543440-8f94-4314-aadc-1601ca23b997",
   "metadata": {},
   "source": [
    "ten_minutes_array_br=h.gen_dt_arr(merged_29_30_br_dt[0], merged_29_30_br_dt[-1], cadence_days=1/24/6)\n",
    "\n",
    "ten_minutes_trajectory_br=spice.get_body('SPP', ten_minutes_array_br )\n",
    "ten_minutes_carr_trajectory_br = ten_minutes_trajectory_br.transform_to(HeliographicCarrington(observer=\"self\"))\n",
    "parker_trajectory_carrington_br= h.interp_trajectory( ten_minutes_array_br , ten_minutes_carr_trajectory_br, merged_3_4_br_dt)\n",
    "\n",
    "\n",
    "parker_projected_br = h.ballistically_project(parker_trajectory_carrington_br)\n"
   ]
  },
  {
   "cell_type": "markdown",
   "id": "bc05b945-abb8-4e6f-9834-71a8b244e671",
   "metadata": {},
   "source": [
    "# |B|, magnitude of B calculation"
   ]
  },
  {
   "cell_type": "code",
   "execution_count": null,
   "id": "c37a3d33-9bd6-4cd7-9e13-428a4e5b22e7",
   "metadata": {},
   "outputs": [],
   "source": [
    "merged_29_30_b"
   ]
  },
  {
   "cell_type": "code",
   "execution_count": null,
   "id": "2d819e97-7780-4b7f-b656-2cd4e13f630a",
   "metadata": {},
   "outputs": [],
   "source": [
    "mag_merged_29_30_b=np.linalg.norm(merged_29_30_b, axis=1) #across columns\n",
    "mag_merged_29_30_b"
   ]
  },
  {
   "cell_type": "code",
   "execution_count": null,
   "id": "1e65e431-87a6-410b-9eaa-2879153aebd4",
   "metadata": {},
   "outputs": [],
   "source": [
    "mag_merged_17_21_b=np.linalg.norm(merged_17_21_b, axis=1) #across columns\n",
    "mag_merged_17_21_b"
   ]
  },
  {
   "cell_type": "code",
   "execution_count": null,
   "id": "9c681ae5-f5a9-45a4-913d-bb84cea31a90",
   "metadata": {},
   "outputs": [],
   "source": [
    "#outbound data\n",
    "merged_4_7_13_b"
   ]
  },
  {
   "cell_type": "code",
   "execution_count": null,
   "id": "1fd86361-cc1c-413b-b4b6-d706da57876c",
   "metadata": {},
   "outputs": [],
   "source": [
    "#manually checking the first row\n",
    "np.sqrt((30.528828)**2 +  (-5.5306273)**2 +  (-5.0137568)**2)"
   ]
  },
  {
   "cell_type": "code",
   "execution_count": null,
   "id": "cae1500b-4d48-4e42-8a66-5f3fcdce804d",
   "metadata": {},
   "outputs": [],
   "source": [
    "#using lin alg.norm\n",
    "mag_merged_4_7_13_b=np.linalg.norm(merged_4_7_13_b, axis=1) #across columns\n",
    "mag_merged_4_7_13_b"
   ]
  },
  {
   "cell_type": "code",
   "execution_count": null,
   "id": "0358cd93-6403-4dff-9751-09b9d008518a",
   "metadata": {},
   "outputs": [],
   "source": [
    "plt.plot(parker_projected_br_29_30.lon, merged_29_30_br*(parker_trajectory_carrington_br_29_30.radius.to(\"au\")**2), label='Br')\n",
    "plt.plot(parker_projected_br_29_30.lon, -mag_merged_29_30_b*(parker_trajectory_carrington_br_29_30.radius.to(\"au\")**2), label='|B|')\n",
    "plt.ylabel('Br*R^2')\n",
    "plt.xlabel('Source surface longitude')\n",
    "plt.legend()"
   ]
  },
  {
   "cell_type": "code",
   "execution_count": null,
   "id": "68193168-5444-4e6e-a4c3-7e1dcb37bd7e",
   "metadata": {},
   "outputs": [],
   "source": [
    "plt.plot( filtered_df_29_30['Parker 29_30 longitude array'], filtered_df_29_30['vp'])\n",
    "plt.ylabel('vp')\n",
    "plt.xlabel('Source surface longitude')"
   ]
  },
  {
   "cell_type": "code",
   "execution_count": null,
   "id": "48933ffa-7be0-46c5-a387-0d0396e76a09",
   "metadata": {},
   "outputs": [],
   "source": [
    "mag_solo_b=np.linalg.norm(solo_b, axis=1)\n",
    "mag_solo_b"
   ]
  },
  {
   "cell_type": "code",
   "execution_count": null,
   "id": "164e4ad5-8014-430e-b83f-4d011d302a35",
   "metadata": {},
   "outputs": [],
   "source": [
    "mag_l1_b=np.linalg.norm(l1_b, axis=1)\n",
    "mag_l1_b"
   ]
  },
  {
   "cell_type": "code",
   "execution_count": null,
   "id": "e491f18a-0c35-4b6f-9044-851b253c6b75",
   "metadata": {},
   "outputs": [],
   "source": [
    "#spped data\n",
    "filtered_df_29_30_data= '/Users/lachmed/Documents/Longitude_warping_project/filtered_parker_March_solar_wind_data_29_30.csv'\n",
    "\n",
    "filtered_df_Solo_4_7_13_data= '/Users/lachmed/Documents/Longitude_warping_project/solo_April_solar_wind_data_4_7_13.csv'\n",
    "\n",
    "\n",
    "\n",
    "filtered_df_29_30= pd.read_csv(filtered_df_29_30_data)\n",
    "\n",
    "filtered_df_Solo_4_7_13=pd.read_csv(filtered_df_Solo_4_7_13_data)\n",
    "\n",
    "#filtered_Br_29_30=filtered_Br_29_30[(filtered_Br_29_30['Parker 29_30 longitude array']>=75)&(filtered_Br_29_30['Parker 29_30 longitude array']<=135)]\n",
    "#Br_4_7_13=Br_4_7_13[(Br_4_7_13['Parker 4/7_13 longitude array']>=60) &(Br_4_7_13['Parker 4/7_13 longitude array']<=119)]\n",
    "#Br_17_21=Br_17_21[(Br_17_21['Parker 17_21 longitude array']>=64)&(Br_17_21['Parker 17_21 longitude array']<=125)]\n",
    "\n",
    "\n",
    "\n",
    "\n",
    "filtered_df_29_30=filtered_df_29_30.dropna()\n",
    "\n",
    "filtered_df_Solo_4_7_13=filtered_df_Solo_4_7_13.dropna()\n",
    "\n",
    "\n",
    "#Br_29_30['np']=Br_29_30['np']*Br_29_30['r^2']\n",
    "\n",
    "filtered_df_29_30=filtered_df_29_30.reset_index(drop=True)\n",
    "\n",
    "filtered_df_Solo_4_7_13=filtered_df_Solo_4_7_13.reset_index(drop=True)\n",
    "\n",
    "\n"
   ]
  },
  {
   "cell_type": "markdown",
   "id": "90105f4d-ae0d-4e3b-87bb-4905971c6539",
   "metadata": {},
   "source": [
    "# Exporting files"
   ]
  },
  {
   "cell_type": "code",
   "execution_count": null,
   "id": "14996fe2-418d-490f-8213-b406a899aa58",
   "metadata": {},
   "outputs": [],
   "source": [
    "export_parker = pd.DataFrame(data={'time': merged_29_30_br_dt, 'source_surface_longitude': parker_projected_br_29_30.lon, 'Br': merged_29_30_br,'|B|': mag_merged_29_30_b, 'R^2':(parker_trajectory_carrington_br_29_30.radius.to(\"au\")**2)})\n",
    "export_parker.to_csv(\"parker_March_29_30_Br_longitude_data.csv\", sep=',',index=False)\n"
   ]
  },
  {
   "cell_type": "code",
   "execution_count": null,
   "id": "9f9a9606-9e8f-49c6-bf8a-5b6e8845adc6",
   "metadata": {},
   "outputs": [],
   "source": [
    "export_parker = pd.DataFrame(data={'time': merged_17_21_br_dt, 'source_surface_longitude': parker_projected_br_17_21.lon, 'Br': merged_17_21_br, '|B|': mag_merged_17_21_b, 'R^2':(parker_trajectory_carrington_br_17_21.radius.to(\"au\")**2)})\n",
    "export_parker.to_csv(\"parker_March_17_21_Br_longitude_data.csv\", sep=',',index=False)\n"
   ]
  },
  {
   "cell_type": "code",
   "execution_count": null,
   "id": "75e7febe-37c3-42d3-bf1b-c88948476244",
   "metadata": {},
   "outputs": [],
   "source": [
    "export_parker = pd.DataFrame(data={'time': merged_4_7_13_br_dt, 'source_surface_longitude': parker_projected_br.lon, 'Br': merged_4_7_13_br, '|B|': mag_merged_4_7_13_b,  'R^2':(parker_trajectory_carrington_br.radius.to(\"au\")**2)})\n",
    "export_parker.to_csv(\"parker_March_4_7_13_Br_longitude_data.csv\", sep=',',index=False)\n"
   ]
  },
  {
   "cell_type": "code",
   "execution_count": null,
   "id": "60303aad-af1e-4837-9619-1c2faf492208",
   "metadata": {},
   "outputs": [],
   "source": [
    "export_l1 = pd.DataFrame(data={'time': l1_br_dt, 'source_surface_longitude': earth_projected.lon, 'Br': l1_br, '|B|': mag_l1_b, 'R^2':(earth_trajectory_carrington.radius.to(\"au\")**2)})\n",
    "export_l1.to_csv(\"l1_April_4_8_Br_longitude_data.csv\", sep=',',index=False)\n",
    "\n",
    "export_solo = pd.DataFrame(data={'time': solo_br_dt, 'source_surface_longitude': solo_projected.lon, 'Br': solo_br, '|B|': mag_solo_b, 'R^2':(solo_trajectory_carrington.radius.to(\"au\")**2)})\n",
    "export_solo.to_csv(\"solo_April_7_13_Br_longitude_data.csv\", sep=',',index=False)"
   ]
  },
  {
   "cell_type": "code",
   "execution_count": null,
   "id": "6b20c271-82f7-4474-852c-1654a0b42126",
   "metadata": {},
   "outputs": [],
   "source": [
    "parker_trajectory_carrington_br.lon"
   ]
  },
  {
   "cell_type": "code",
   "execution_count": null,
   "id": "9b5ab4f3-95bc-42c1-ac4b-ed3e61339452",
   "metadata": {},
   "outputs": [],
   "source": [
    "parker_projected_br.lon"
   ]
  },
  {
   "cell_type": "code",
   "execution_count": null,
   "id": "73a7c771-d55f-45e6-91dc-6b4e4d81d39c",
   "metadata": {},
   "outputs": [],
   "source": [
    "merged_4_7_13_br_dt"
   ]
  },
  {
   "cell_type": "code",
   "execution_count": null,
   "id": "93aa3b0d-941e-42d0-9664-f1dd4ca995c9",
   "metadata": {},
   "outputs": [],
   "source": [
    "x"
   ]
  },
  {
   "cell_type": "code",
   "execution_count": null,
   "id": "4f88e5c7-4fd7-4b25-9d1b-0c484db8c9a0",
   "metadata": {},
   "outputs": [],
   "source": []
  },
  {
   "cell_type": "markdown",
   "id": "06e5d251-df96-4e58-9800-7b6e53f00bb1",
   "metadata": {},
   "source": [
    "# need 1 min data from Sam to add the parker spiral "
   ]
  },
  {
   "cell_type": "code",
   "execution_count": null,
   "id": "c1098efd-6220-496c-b1e0-a330b7574398",
   "metadata": {},
   "outputs": [],
   "source": [
    "\n",
    "\n",
    "# Example data (replace these with your actual data)\n",
    "lon = np.radians(parker_trajectory_carrington.lon.value)  # Convert longitude to radians\n",
    "r = ((parker_trajectory_carrington.radius.to(\"au\")**2).value)  # Radial distance\n",
    "lat = parker_trajectory_carrington.lat.value  # Latitude\n",
    "Br = br_r_squared  # Magnetic field (Br) for color mapping\n",
    "\n",
    "\n",
    "# Ensure consistent shapes by removing NaNs and filtering across all arrays\n",
    "\n",
    "# Create a combined mask to remove NaNs from all arrays and apply any necessary filtering\n",
    "mask = (~np.isnan(lon)) & (~np.isnan(r)) & (~np.isnan(Br)) & (~np.isnan(parker_vr)) & (Br <= 5)\n",
    "\n",
    "# Apply the mask to all arrays to ensure they have the same shape\n",
    "lon = lon[mask]\n",
    "r = r[mask]\n",
    "Br = Br[mask]\n",
    "parker_vr = parker_vr[mask]  # Now included in the mask\n",
    "\n",
    "\n",
    "# Constants\n",
    "omega = 2.7e-6  # Solar rotation rate in rad/s\n",
    "\n",
    "# Create a subplot with polar projection\n",
    "fig, ax = plt.subplots(subplot_kw={'projection': 'polar'})\n",
    "\n",
    "# Create the scatter plot with magnetic field as color (Br)\n",
    "scatter = ax.scatter(lon, r, c=Br, cmap='bwr', s=30)\n",
    "\n",
    "# Add color bar to represent the magnetic field\n",
    "plt.colorbar(scatter, ax=ax, label='Magnetic Field (Br)')\n",
    "\n",
    "\n",
    "\n",
    "# Set more theta gridlines (for example, 12 divisions: 30° intervals)\n",
    "ax.set_xticks(np.arange(0, 2*np.pi, 30))  # 12 angular divisions (30° steps)\n",
    "\n",
    "# Set more radial gridlines (example: 6 radial divisions)\n",
    "ax.set_yticks(np.linspace(0, np.max(r), 6))  # 6 radial divisions\n",
    "\n",
    "# Add title and labels (customize as needed)\n",
    "ax.set_title('Br * R^2 with Magnetic Field Br (Filtered)')\n",
    "\n",
    "\n",
    "\n",
    "\n",
    "# Plot Parker spirals using actual radial speed data (parker_vr)\n",
    "theta_0_list = [0, np.pi/4, np.pi/2, 3*np.pi/4]  # Different initial heliolongitudes\n",
    "for theta_0 in theta_0_list:\n",
    "    r_spiral = (parker_vr / omega) * (lon - theta_0)  # Use actual speed from parker_vr\n",
    "    r_spiral = np.abs(r_spiral)  # Ensure positive radial distances\n",
    "    ax.plot(lon, r_spiral, color='green', linestyle='--', label=f'Parker Spiral θ₀={theta_0:.2f}')\n",
    "\n",
    "# Add title and labels (customize as needed)\n",
    "ax.set_title('Br * R^2 with Magnetic Field Br and Parker Spirals (using actual Vr)')\n",
    "\n",
    "# Save the figure\n",
    "#plt.savefig('E19_trajectory_2024_with_Parker_Spirals_and_Vr.png')\n",
    "\n",
    "# Show the plot\n",
    "plt.show()\n"
   ]
  },
  {
   "cell_type": "code",
   "execution_count": null,
   "id": "6f6f6a34-a61a-4b04-a487-aa83bf8083b3",
   "metadata": {},
   "outputs": [],
   "source": []
  },
  {
   "cell_type": "code",
   "execution_count": null,
   "id": "de767a7c-dd40-4356-8902-827a2c585c5c",
   "metadata": {},
   "outputs": [],
   "source": []
  },
  {
   "cell_type": "code",
   "execution_count": null,
   "id": "e3a88d77-484b-4f01-a580-29c5d980cd57",
   "metadata": {},
   "outputs": [],
   "source": []
  },
  {
   "cell_type": "code",
   "execution_count": null,
   "id": "8eddf7c2-f36e-4447-85ca-98a9fb6658d5",
   "metadata": {},
   "outputs": [],
   "source": []
  },
  {
   "cell_type": "code",
   "execution_count": null,
   "id": "3e30d109-a39d-49ad-bc6c-9534b6931de0",
   "metadata": {},
   "outputs": [],
   "source": []
  },
  {
   "cell_type": "code",
   "execution_count": null,
   "id": "77b0f246-20a8-4834-b9cb-36d2ab33dbad",
   "metadata": {},
   "outputs": [],
   "source": []
  },
  {
   "cell_type": "code",
   "execution_count": null,
   "id": "41c42ab0-2ba4-4937-a4f4-d729c0302bdc",
   "metadata": {},
   "outputs": [],
   "source": []
  },
  {
   "cell_type": "code",
   "execution_count": null,
   "id": "e3b03f82-067b-4570-8b18-a2a6c7d0123d",
   "metadata": {},
   "outputs": [],
   "source": []
  },
  {
   "cell_type": "code",
   "execution_count": null,
   "id": "a63579c7-7070-4a9f-95b4-e2a9653f6aa5",
   "metadata": {},
   "outputs": [],
   "source": []
  },
  {
   "cell_type": "code",
   "execution_count": null,
   "id": "5d076a0f-2a22-4577-86b7-fb9a9c052350",
   "metadata": {},
   "outputs": [],
   "source": []
  }
 ],
 "metadata": {
  "kernelspec": {
   "display_name": "Python (pySPEDAS)",
   "language": "python",
   "name": "pyspedas"
  },
  "language_info": {
   "codemirror_mode": {
    "name": "ipython",
    "version": 3
   },
   "file_extension": ".py",
   "mimetype": "text/x-python",
   "name": "python",
   "nbconvert_exporter": "python",
   "pygments_lexer": "ipython3",
   "version": "3.11.12"
  }
 },
 "nbformat": 4,
 "nbformat_minor": 5
}

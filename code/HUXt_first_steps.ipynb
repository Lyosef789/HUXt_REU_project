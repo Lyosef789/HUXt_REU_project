{
 "cells": [
  {
   "cell_type": "code",
   "execution_count": null,
   "id": "df02435b-73fd-4afd-b831-bec7533e513a",
   "metadata": {},
   "outputs": [],
   "source": [
    "import numpy as np\n",
    "import astropy.units as u\n",
    "import matplotlib.pyplot as plt\n",
    "import datetime\n",
    "import os\n",
    "import sys\n",
    "\n",
    "sys.path.insert(0,\"../HUXt/code\")\n",
    "import huxt as H\n",
    "import huxt_analysis as HA\n",
    "import huxt_inputs as Hin"
   ]
  },
  {
   "cell_type": "markdown",
   "id": "0e62acfc-7fe6-43bc-8fd8-c4f8b7e4ca68",
   "metadata": {},
   "source": [
    "### This notebook takes you through the first few steps of using HUXt. A link to the main example notebook is here: https://github.com/University-of-Reading-Space-Science/HUXt/blob/master/code/HUXt_examples.ipynb. \n",
    "\n",
    "### Task one: review this notebook, try running parts of it by copy pasting into this new notebook. \n",
    "\n",
    "-Identify where you create an input for the boundary condition. \n",
    "\n",
    "-Identify where you run the model. \n",
    "\n",
    "-Identify where you view the timeseries/radial profile. \n",
    "\n",
    "-Identify where you can view the 2D model output.  \n",
    "\n",
    "-Identify where you can inject a CME. "
   ]
  },
  {
   "cell_type": "code",
   "execution_count": null,
   "id": "fc70d189-7cca-4b7f-b70e-7a3ca268bd15",
   "metadata": {},
   "outputs": [],
   "source": []
  },
  {
   "cell_type": "markdown",
   "id": "5cf3606d-9012-437c-8fea-2df6790aa8f4",
   "metadata": {},
   "source": [
    "### Task two: next, try reproducing example four, and changing the carrington rotation number to se the model change. \n",
    "\n",
    "#### For each carrington roation you try, plot the boundary condition on one figure to see how different they are. \n"
   ]
  },
  {
   "cell_type": "code",
   "execution_count": null,
   "id": "7398b053-f818-46b9-8a2d-a29b55627dbc",
   "metadata": {},
   "outputs": [],
   "source": []
  },
  {
   "cell_type": "code",
   "execution_count": null,
   "id": "2127dd01-1418-4e16-bee5-708df56df8e1",
   "metadata": {},
   "outputs": [],
   "source": []
  },
  {
   "cell_type": "code",
   "execution_count": null,
   "id": "e286e801-27ca-4877-b56c-7aa50f7ef60f",
   "metadata": {},
   "outputs": [],
   "source": []
  },
  {
   "cell_type": "code",
   "execution_count": null,
   "id": "74a0b09a-af3f-417a-aacb-50cfc7066e66",
   "metadata": {},
   "outputs": [],
   "source": []
  },
  {
   "cell_type": "code",
   "execution_count": null,
   "id": "7a65f50c-89a0-4784-b87e-ee00b06ca599",
   "metadata": {},
   "outputs": [],
   "source": []
  }
 ],
 "metadata": {
  "kernelspec": {
   "display_name": "Python 3 (ipykernel)",
   "language": "python",
   "name": "python3"
  },
  "language_info": {
   "codemirror_mode": {
    "name": "ipython",
    "version": 3
   },
   "file_extension": ".py",
   "mimetype": "text/x-python",
   "name": "python",
   "nbconvert_exporter": "python",
   "pygments_lexer": "ipython3",
   "version": "3.9.19"
  }
 },
 "nbformat": 4,
 "nbformat_minor": 5
}

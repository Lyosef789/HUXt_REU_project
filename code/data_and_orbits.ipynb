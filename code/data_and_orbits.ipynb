{
 "cells": [
  {
   "cell_type": "markdown",
   "id": "bc332d25-1b5b-4e5d-9eab-4a4ade72aa47",
   "metadata": {},
   "source": [
    "### This notebook gets you started accessing, loading and plotting the spacecraft datasets we will be using this summer."
   ]
  },
  {
   "cell_type": "code",
   "execution_count": 2,
   "id": "d93a9246-1f99-40c0-bebd-38e203bda981",
   "metadata": {},
   "outputs": [],
   "source": [
    "import numpy as np\n",
    "import matplotlib as plt\n",
    "import pandas as pd\n",
    "import datetime"
   ]
  },
  {
   "cell_type": "markdown",
   "id": "35b10c7b-9685-4cb1-b7f1-0878c4299274",
   "metadata": {},
   "source": [
    "Step 1 : Go to the REU data google drive folder (https://drive.google.com/drive/folders/1qfIYfmeEQvrCgLsI99tbIJg-CmZaX12a?usp=drive_link), download all the CSV files, and place them in the ./data/ folder in this REU repository. If they're in the right place, the next cell should print them correctly"
   ]
  },
  {
   "cell_type": "code",
   "execution_count": 1,
   "id": "18b91085-c262-4963-95d9-df3958e90e81",
   "metadata": {},
   "outputs": [],
   "source": [
    "ls ../data"
   ]
  },
  {
   "cell_type": "markdown",
   "id": "c71c8840-b790-4408-b0c5-b074e50dce93",
   "metadata": {},
   "source": [
    "Step 2 : Open one of these files in this notebook (we like to use `pandas`) and see if you understand what the contents are and how they are organized. Ask us any questions about what you don't understand! "
   ]
  },
  {
   "cell_type": "code",
   "execution_count": null,
   "id": "af618513-d12c-45e6-b96f-7d284a27ab5a",
   "metadata": {},
   "outputs": [],
   "source": [
    "dataframe = pd.read_csv('/path/to/file.csv')"
   ]
  },
  {
   "cell_type": "markdown",
   "id": "d9ca4f21-3790-441d-9bf1-1e5bffc23fea",
   "metadata": {},
   "source": [
    "Step 3 : Try plotting the Parker Solar Probe measurements of velocity vs time"
   ]
  },
  {
   "cell_type": "code",
   "execution_count": null,
   "id": "0acd73a6-0a1b-46c7-9a5e-24bf05b8c2fa",
   "metadata": {},
   "outputs": [],
   "source": [
    "fig, ax = plt.subplots(figsize=(5,5))\n",
    "ax.plot(...)"
   ]
  },
  {
   "cell_type": "markdown",
   "id": "66c03725-a811-4515-92bb-7bae7a94eb9f",
   "metadata": {},
   "source": [
    "Step 4 : Try plotting the Parker Solar Probe trajectory. Note the coordinates are in spherical polar coordinates, try to convert to cartesian coordinates and plotting X vs Y to see what the orbit looks like from above. "
   ]
  },
  {
   "cell_type": "code",
   "execution_count": null,
   "id": "8b3da7b0-77ab-45e1-9ce8-fe88943094a4",
   "metadata": {},
   "outputs": [],
   "source": [
    "fig,ax = plt.subplots(figsize=(5,5))\n",
    "ax.plot(...)"
   ]
  },
  {
   "cell_type": "markdown",
   "id": "baed892a-fa32-410e-8dda-993792bdefa4",
   "metadata": {},
   "source": [
    "Step 5: Design a filter that lets you select all data points between a start and an end point"
   ]
  },
  {
   "cell_type": "code",
   "execution_count": null,
   "id": "ae1b75ee-a6b2-449e-a8c7-423ee8196bef",
   "metadata": {},
   "outputs": [],
   "source": []
  },
  {
   "cell_type": "markdown",
   "id": "a17eade2-e558-4cfa-a283-e05eb06dcfaf",
   "metadata": {},
   "source": [
    "Step 6 : Figure out the date ranges when Parker was moving prograde with respect to the Sun."
   ]
  },
  {
   "cell_type": "code",
   "execution_count": null,
   "id": "6eb3e3a7-b7da-4544-906b-2ace3e3c113e",
   "metadata": {},
   "outputs": [],
   "source": []
  }
 ],
 "metadata": {
  "kernelspec": {
   "display_name": "Python 3 (ipykernel)",
   "language": "python",
   "name": "python3"
  },
  "language_info": {
   "codemirror_mode": {
    "name": "ipython",
    "version": 3
   },
   "file_extension": ".py",
   "mimetype": "text/x-python",
   "name": "python",
   "nbconvert_exporter": "python",
   "pygments_lexer": "ipython3",
   "version": "3.9.19"
  }
 },
 "nbformat": 4,
 "nbformat_minor": 5
}

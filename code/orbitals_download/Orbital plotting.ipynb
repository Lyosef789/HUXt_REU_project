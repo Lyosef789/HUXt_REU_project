{
 "cells": [
  {
   "cell_type": "markdown",
   "id": "64e870ca-1400-424b-822a-995789f7996d",
   "metadata": {},
   "source": [
    "import sys\n",
    "#sys.path\n",
    "sys.path.append(\"/opt/homebrew/Caskroom/miniforge/base/envs/sunpy/lib/python3.11/site-packages/\")"
   ]
  },
  {
   "cell_type": "code",
   "execution_count": 2,
   "id": "dfba0871-b703-4833-9166-149104a0997a",
   "metadata": {},
   "outputs": [
    {
     "name": "stdout",
     "output_type": "stream",
     "text": [
      "INFO: Installing IAU_SUN PCK frame (10010) as 'spice_IAU_SUN' [sunpy.coordinates.spice]\n",
      "INFO: Creating ICRF frame with SUN (10) origin [sunpy.coordinates.spice]\n"
     ]
    }
   ],
   "source": [
    "import glob,datetime\n",
    "import sunpy.coordinates\n",
    "import numpy as np\n",
    "from sunpy.coordinates import spice,HeliographicStonyhurst, HeliographicCarrington\n",
    "import matplotlib.pyplot as plt\n",
    "import helpers as h\n",
    "kernel_files = glob.glob(\"./spice_data/*.bsp\")\n",
    "spice.initialize(kernel_files)\n",
    "spice.install_frame('IAU_SUN')\n",
    "plt.style.use(\"dark_background\")"
   ]
  },
  {
   "cell_type": "code",
   "execution_count": 3,
   "id": "7d887941-44bf-43b9-80a6-31fc66ea5fa9",
   "metadata": {},
   "outputs": [
    {
     "name": "stderr",
     "output_type": "stream",
     "text": [
      "28-May-25 16:37:21: /Users/lachmed/pyspedas/lib/python3.11/site-packages/tqdm/auto.py:21: TqdmWarning: IProgress not found. Please update jupyter and ipywidgets. See https://ipywidgets.readthedocs.io/en/stable/user_install.html\n",
      "  from .autonotebook import tqdm as notebook_tqdm\n",
      "\n"
     ]
    }
   ],
   "source": [
    "import pyspedas, pytplot\n",
    "import numpy as np\n",
    "import datetime\n",
    "import matplotlib.pyplot as plt\n",
    "import pandas as pd\n",
    "import getpass\n",
    "import astropy.units as u\n",
    "\n",
    "# Custom\n",
    "import helpers as h\n",
    "\n",
    "### sunpy ###\n",
    "from sunpy.net import Fido, attrs as a\n",
    "import sunpy_soar\n",
    "\n",
    "#plt.style.use(\"dark_background\")"
   ]
  },
  {
   "cell_type": "code",
   "execution_count": 4,
   "id": "23d2e1cb-1bab-4ff8-844e-79ef2539227d",
   "metadata": {},
   "outputs": [
    {
     "name": "stderr",
     "output_type": "stream",
     "text": [
      "28-May-25 16:37:25: Downloading remote index: https://spdf.gsfc.nasa.gov/pub/data/psp/sweap/spc/l3/l3i/2024/\n",
      "28-May-25 16:37:25: Downloading https://spdf.gsfc.nasa.gov/pub/data/psp/sweap/spc/l3/l3i/2024/psp_swp_spc_l3i_20240501_v02.cdf to psp_data/sweap/spc/l3/l3i/2024/psp_swp_spc_l3i_20240501_v02.cdf\n"
     ]
    },
    {
     "name": "stdout",
     "output_type": "stream",
     "text": [
      "Using LEVEL=L3\n"
     ]
    },
    {
     "name": "stderr",
     "output_type": "stream",
     "text": [
      "28-May-25 16:37:25: Download complete: psp_data/sweap/spc/l3/l3i/2024/psp_swp_spc_l3i_20240501_v02.cdf\n",
      "28-May-25 16:37:25: Downloading https://spdf.gsfc.nasa.gov/pub/data/psp/sweap/spc/l3/l3i/2024/psp_swp_spc_l3i_20240502_v02.cdf to psp_data/sweap/spc/l3/l3i/2024/psp_swp_spc_l3i_20240502_v02.cdf\n",
      "28-May-25 16:37:25: Download complete: psp_data/sweap/spc/l3/l3i/2024/psp_swp_spc_l3i_20240502_v02.cdf\n",
      "28-May-25 16:37:25: Downloading https://spdf.gsfc.nasa.gov/pub/data/psp/sweap/spc/l3/l3i/2024/psp_swp_spc_l3i_20240503_v02.cdf to psp_data/sweap/spc/l3/l3i/2024/psp_swp_spc_l3i_20240503_v02.cdf\n",
      "28-May-25 16:37:25: Download complete: psp_data/sweap/spc/l3/l3i/2024/psp_swp_spc_l3i_20240503_v02.cdf\n",
      "28-May-25 16:37:25: Downloading https://spdf.gsfc.nasa.gov/pub/data/psp/sweap/spc/l3/l3i/2024/psp_swp_spc_l3i_20240504_v02.cdf to psp_data/sweap/spc/l3/l3i/2024/psp_swp_spc_l3i_20240504_v02.cdf\n",
      "28-May-25 16:37:25: Download complete: psp_data/sweap/spc/l3/l3i/2024/psp_swp_spc_l3i_20240504_v02.cdf\n",
      "28-May-25 16:37:25: Downloading https://spdf.gsfc.nasa.gov/pub/data/psp/sweap/spc/l3/l3i/2024/psp_swp_spc_l3i_20240505_v02.cdf to psp_data/sweap/spc/l3/l3i/2024/psp_swp_spc_l3i_20240505_v02.cdf\n",
      "28-May-25 16:37:25: Download complete: psp_data/sweap/spc/l3/l3i/2024/psp_swp_spc_l3i_20240505_v02.cdf\n",
      "28-May-25 16:37:26: Downloading https://spdf.gsfc.nasa.gov/pub/data/psp/sweap/spc/l3/l3i/2024/psp_swp_spc_l3i_20240506_v02.cdf to psp_data/sweap/spc/l3/l3i/2024/psp_swp_spc_l3i_20240506_v02.cdf\n",
      "28-May-25 16:37:26: Download complete: psp_data/sweap/spc/l3/l3i/2024/psp_swp_spc_l3i_20240506_v02.cdf\n",
      "28-May-25 16:37:26: No links matching pattern psp_swp_spc_l3i_20240507_v??.cdf found at remote index https://spdf.gsfc.nasa.gov/pub/data/psp/sweap/spc/l3/l3i/2024/\n",
      "28-May-25 16:37:26: Downloading https://spdf.gsfc.nasa.gov/pub/data/psp/sweap/spc/l3/l3i/2024/psp_swp_spc_l3i_20240508_v02.cdf to psp_data/sweap/spc/l3/l3i/2024/psp_swp_spc_l3i_20240508_v02.cdf\n",
      "28-May-25 16:37:26: Download complete: psp_data/sweap/spc/l3/l3i/2024/psp_swp_spc_l3i_20240508_v02.cdf\n",
      "28-May-25 16:37:26: Downloading https://spdf.gsfc.nasa.gov/pub/data/psp/sweap/spc/l3/l3i/2024/psp_swp_spc_l3i_20240509_v02.cdf to psp_data/sweap/spc/l3/l3i/2024/psp_swp_spc_l3i_20240509_v02.cdf\n",
      "28-May-25 16:37:26: Download complete: psp_data/sweap/spc/l3/l3i/2024/psp_swp_spc_l3i_20240509_v02.cdf\n",
      "28-May-25 16:37:26: Downloading https://spdf.gsfc.nasa.gov/pub/data/psp/sweap/spc/l3/l3i/2024/psp_swp_spc_l3i_20240510_v02.cdf to psp_data/sweap/spc/l3/l3i/2024/psp_swp_spc_l3i_20240510_v02.cdf\n",
      "28-May-25 16:37:26: Download complete: psp_data/sweap/spc/l3/l3i/2024/psp_swp_spc_l3i_20240510_v02.cdf\n",
      "28-May-25 16:37:26: Downloading https://spdf.gsfc.nasa.gov/pub/data/psp/sweap/spc/l3/l3i/2024/psp_swp_spc_l3i_20240511_v02.cdf to psp_data/sweap/spc/l3/l3i/2024/psp_swp_spc_l3i_20240511_v02.cdf\n",
      "28-May-25 16:37:26: Download complete: psp_data/sweap/spc/l3/l3i/2024/psp_swp_spc_l3i_20240511_v02.cdf\n",
      "28-May-25 16:37:26: Downloading https://spdf.gsfc.nasa.gov/pub/data/psp/sweap/spc/l3/l3i/2024/psp_swp_spc_l3i_20240512_v02.cdf to psp_data/sweap/spc/l3/l3i/2024/psp_swp_spc_l3i_20240512_v02.cdf\n",
      "28-May-25 16:37:27: Download complete: psp_data/sweap/spc/l3/l3i/2024/psp_swp_spc_l3i_20240512_v02.cdf\n",
      "28-May-25 16:37:27: Downloading https://spdf.gsfc.nasa.gov/pub/data/psp/sweap/spc/l3/l3i/2024/psp_swp_spc_l3i_20240513_v02.cdf to psp_data/sweap/spc/l3/l3i/2024/psp_swp_spc_l3i_20240513_v02.cdf\n",
      "28-May-25 16:37:27: Download complete: psp_data/sweap/spc/l3/l3i/2024/psp_swp_spc_l3i_20240513_v02.cdf\n",
      "28-May-25 16:37:27: Downloading https://spdf.gsfc.nasa.gov/pub/data/psp/sweap/spc/l3/l3i/2024/psp_swp_spc_l3i_20240514_v02.cdf to psp_data/sweap/spc/l3/l3i/2024/psp_swp_spc_l3i_20240514_v02.cdf\n",
      "28-May-25 16:37:27: Download complete: psp_data/sweap/spc/l3/l3i/2024/psp_swp_spc_l3i_20240514_v02.cdf\n",
      "28-May-25 16:37:27: Downloading https://spdf.gsfc.nasa.gov/pub/data/psp/sweap/spc/l3/l3i/2024/psp_swp_spc_l3i_20240515_v02.cdf to psp_data/sweap/spc/l3/l3i/2024/psp_swp_spc_l3i_20240515_v02.cdf\n",
      "28-May-25 16:37:27: Download complete: psp_data/sweap/spc/l3/l3i/2024/psp_swp_spc_l3i_20240515_v02.cdf\n",
      "28-May-25 16:37:27: Downloading https://spdf.gsfc.nasa.gov/pub/data/psp/sweap/spc/l3/l3i/2024/psp_swp_spc_l3i_20240516_v02.cdf to psp_data/sweap/spc/l3/l3i/2024/psp_swp_spc_l3i_20240516_v02.cdf\n",
      "28-May-25 16:37:27: Download complete: psp_data/sweap/spc/l3/l3i/2024/psp_swp_spc_l3i_20240516_v02.cdf\n",
      "28-May-25 16:37:27: Downloading https://spdf.gsfc.nasa.gov/pub/data/psp/sweap/spc/l3/l3i/2024/psp_swp_spc_l3i_20240517_v02.cdf to psp_data/sweap/spc/l3/l3i/2024/psp_swp_spc_l3i_20240517_v02.cdf\n",
      "28-May-25 16:37:27: Download complete: psp_data/sweap/spc/l3/l3i/2024/psp_swp_spc_l3i_20240517_v02.cdf\n",
      "28-May-25 16:37:27: Downloading https://spdf.gsfc.nasa.gov/pub/data/psp/sweap/spc/l3/l3i/2024/psp_swp_spc_l3i_20240518_v02.cdf to psp_data/sweap/spc/l3/l3i/2024/psp_swp_spc_l3i_20240518_v02.cdf\n",
      "28-May-25 16:37:28: Download complete: psp_data/sweap/spc/l3/l3i/2024/psp_swp_spc_l3i_20240518_v02.cdf\n",
      "28-May-25 16:37:28: Downloading https://spdf.gsfc.nasa.gov/pub/data/psp/sweap/spc/l3/l3i/2024/psp_swp_spc_l3i_20240519_v02.cdf to psp_data/sweap/spc/l3/l3i/2024/psp_swp_spc_l3i_20240519_v02.cdf\n",
      "28-May-25 16:37:28: Download complete: psp_data/sweap/spc/l3/l3i/2024/psp_swp_spc_l3i_20240519_v02.cdf\n",
      "28-May-25 16:37:28: Downloading https://spdf.gsfc.nasa.gov/pub/data/psp/sweap/spc/l3/l3i/2024/psp_swp_spc_l3i_20240520_v02.cdf to psp_data/sweap/spc/l3/l3i/2024/psp_swp_spc_l3i_20240520_v02.cdf\n",
      "28-May-25 16:37:28: Download complete: psp_data/sweap/spc/l3/l3i/2024/psp_swp_spc_l3i_20240520_v02.cdf\n",
      "28-May-25 16:37:28: Downloading https://spdf.gsfc.nasa.gov/pub/data/psp/sweap/spc/l3/l3i/2024/psp_swp_spc_l3i_20240521_v02.cdf to psp_data/sweap/spc/l3/l3i/2024/psp_swp_spc_l3i_20240521_v02.cdf\n",
      "28-May-25 16:37:28: Download complete: psp_data/sweap/spc/l3/l3i/2024/psp_swp_spc_l3i_20240521_v02.cdf\n",
      "28-May-25 16:37:28: Downloading https://spdf.gsfc.nasa.gov/pub/data/psp/sweap/spc/l3/l3i/2024/psp_swp_spc_l3i_20240522_v02.cdf to psp_data/sweap/spc/l3/l3i/2024/psp_swp_spc_l3i_20240522_v02.cdf\n",
      "28-May-25 16:37:28: Download complete: psp_data/sweap/spc/l3/l3i/2024/psp_swp_spc_l3i_20240522_v02.cdf\n",
      "28-May-25 16:37:28: Downloading https://spdf.gsfc.nasa.gov/pub/data/psp/sweap/spc/l3/l3i/2024/psp_swp_spc_l3i_20240523_v02.cdf to psp_data/sweap/spc/l3/l3i/2024/psp_swp_spc_l3i_20240523_v02.cdf\n",
      "28-May-25 16:37:28: Download complete: psp_data/sweap/spc/l3/l3i/2024/psp_swp_spc_l3i_20240523_v02.cdf\n",
      "28-May-25 16:37:28: Downloading https://spdf.gsfc.nasa.gov/pub/data/psp/sweap/spc/l3/l3i/2024/psp_swp_spc_l3i_20240524_v02.cdf to psp_data/sweap/spc/l3/l3i/2024/psp_swp_spc_l3i_20240524_v02.cdf\n",
      "28-May-25 16:37:29: Download complete: psp_data/sweap/spc/l3/l3i/2024/psp_swp_spc_l3i_20240524_v02.cdf\n",
      "28-May-25 16:37:29: Downloading https://spdf.gsfc.nasa.gov/pub/data/psp/sweap/spc/l3/l3i/2024/psp_swp_spc_l3i_20240525_v02.cdf to psp_data/sweap/spc/l3/l3i/2024/psp_swp_spc_l3i_20240525_v02.cdf\n",
      "28-May-25 16:37:29: Download complete: psp_data/sweap/spc/l3/l3i/2024/psp_swp_spc_l3i_20240525_v02.cdf\n",
      "28-May-25 16:37:29: Downloading https://spdf.gsfc.nasa.gov/pub/data/psp/sweap/spc/l3/l3i/2024/psp_swp_spc_l3i_20240526_v02.cdf to psp_data/sweap/spc/l3/l3i/2024/psp_swp_spc_l3i_20240526_v02.cdf\n",
      "28-May-25 16:37:29: Download complete: psp_data/sweap/spc/l3/l3i/2024/psp_swp_spc_l3i_20240526_v02.cdf\n",
      "28-May-25 16:37:29: Downloading https://spdf.gsfc.nasa.gov/pub/data/psp/sweap/spc/l3/l3i/2024/psp_swp_spc_l3i_20240527_v02.cdf to psp_data/sweap/spc/l3/l3i/2024/psp_swp_spc_l3i_20240527_v02.cdf\n",
      "28-May-25 16:37:29: Download complete: psp_data/sweap/spc/l3/l3i/2024/psp_swp_spc_l3i_20240527_v02.cdf\n",
      "28-May-25 16:37:29: Downloading https://spdf.gsfc.nasa.gov/pub/data/psp/sweap/spc/l3/l3i/2024/psp_swp_spc_l3i_20240528_v02.cdf to psp_data/sweap/spc/l3/l3i/2024/psp_swp_spc_l3i_20240528_v02.cdf\n",
      "28-May-25 16:37:29: Download complete: psp_data/sweap/spc/l3/l3i/2024/psp_swp_spc_l3i_20240528_v02.cdf\n",
      "28-May-25 16:37:29: Downloading https://spdf.gsfc.nasa.gov/pub/data/psp/sweap/spc/l3/l3i/2024/psp_swp_spc_l3i_20240529_v02.cdf to psp_data/sweap/spc/l3/l3i/2024/psp_swp_spc_l3i_20240529_v02.cdf\n",
      "28-May-25 16:37:30: Download complete: psp_data/sweap/spc/l3/l3i/2024/psp_swp_spc_l3i_20240529_v02.cdf\n",
      "28-May-25 16:37:30: Downloading https://spdf.gsfc.nasa.gov/pub/data/psp/sweap/spc/l3/l3i/2024/psp_swp_spc_l3i_20240530_v02.cdf to psp_data/sweap/spc/l3/l3i/2024/psp_swp_spc_l3i_20240530_v02.cdf\n",
      "28-May-25 16:37:30: Download complete: psp_data/sweap/spc/l3/l3i/2024/psp_swp_spc_l3i_20240530_v02.cdf\n"
     ]
    }
   ],
   "source": [
    "### Parker Solar Probe Plasma Data\n",
    "# SPC\n",
    "dt_start = datetime.datetime(2024, 5, 1)\n",
    "dt_end = datetime.datetime(2024, 5, 31)\n",
    "\n",
    "#usr = getpass.getuser()\n",
    "#pass_swp = getpass.getpass(\"Enter SWEAP Password:\")\n",
    "#pass_fld = getpass.getpass(\"Enter FIELDS Password:\")\n",
    "\n",
    "\n",
    "psp_spc = pyspedas.psp.spc([dt_start,dt_end],\n",
    "                                       notplot=True,    \n",
    "                                       datatype=\"l3i\", \n",
    "                                       level=\"L3\")\n",
    "                                       #username=usr,\n",
    "                                       #password=pass_swp,)\n",
    "\n",
    "#Density\n",
    "psp_spc_Dens=psp_spc['psp_spc_np_fit']\n",
    "parker_n_dt = pd.to_datetime(psp_spc_Dens['x']).to_pydatetime() # Datetimes\n",
    "parker_n_ts = np.array([dt.timestamp() for dt in parker_n_dt]) # Unix Timestamp (float)\n",
    "parker_n = psp_spc_Dens['y'] \n",
    "#parker_n\n",
    "\n",
    "#speed\n",
    "psp_spc_VEL_RTN_SUN  = psp_spc['psp_spc_vp_fit_RTN']\n",
    "parker_vr_dt = pd.to_datetime(psp_spc_VEL_RTN_SUN['x']).to_pydatetime() # Datetimes\n",
    "parker_vr_ts = np.array([dt.timestamp() for dt in parker_vr_dt]) # Unix Timestamp (float)\n",
    "parker_vr = psp_spc_VEL_RTN_SUN['y'][:,0]\n",
    "\n",
    "#Temp\n",
    "psp_spc_Temp  = psp_spc['psp_spc_wp_fit']\n",
    "parker_w_dt = pd.to_datetime(psp_spc_Temp['x']).to_pydatetime() # Datetimes\n",
    "parker_w_ts = np.array([dt.timestamp() for dt in parker_w_dt]) # Unix Timestamp (float)\n",
    "parker_w = psp_spc_Temp['y']"
   ]
  },
  {
   "cell_type": "code",
   "execution_count": 5,
   "id": "95510a91-7c2a-44bb-9ba8-2cb41ac682dd",
   "metadata": {},
   "outputs": [],
   "source": [
    "# Generate Positions for Parker Solar Probe plasma data\n",
    "parker_trajectory_inertial_Vr = spice.get_body('SPP', parker_vr_dt)\n",
    "parker_trajectory_carrington_Vr = parker_trajectory_inertial_Vr.transform_to(HeliographicCarrington(observer=\"self\"))\n",
    "parker_trajectory_inertial_Vr.representation_type = \"spherical\"\n",
    "parker_trajectory_carrington_Vr.representation_type = \"spherical\""
   ]
  },
  {
   "cell_type": "code",
   "execution_count": null,
   "id": "8eddf7c2-f36e-4447-85ca-98a9fb6658d5",
   "metadata": {},
   "outputs": [],
   "source": []
  },
  {
   "cell_type": "code",
   "execution_count": null,
   "id": "3e30d109-a39d-49ad-bc6c-9534b6931de0",
   "metadata": {},
   "outputs": [],
   "source": []
  },
  {
   "cell_type": "code",
   "execution_count": null,
   "id": "77b0f246-20a8-4834-b9cb-36d2ab33dbad",
   "metadata": {},
   "outputs": [],
   "source": []
  },
  {
   "cell_type": "code",
   "execution_count": null,
   "id": "41c42ab0-2ba4-4937-a4f4-d729c0302bdc",
   "metadata": {},
   "outputs": [],
   "source": []
  },
  {
   "cell_type": "code",
   "execution_count": null,
   "id": "e3b03f82-067b-4570-8b18-a2a6c7d0123d",
   "metadata": {},
   "outputs": [],
   "source": []
  },
  {
   "cell_type": "code",
   "execution_count": null,
   "id": "a63579c7-7070-4a9f-95b4-e2a9653f6aa5",
   "metadata": {},
   "outputs": [],
   "source": []
  },
  {
   "cell_type": "code",
   "execution_count": null,
   "id": "5d076a0f-2a22-4577-86b7-fb9a9c052350",
   "metadata": {},
   "outputs": [],
   "source": []
  }
 ],
 "metadata": {
  "kernelspec": {
   "display_name": "Python 3 (ipykernel)",
   "language": "python",
   "name": "python3"
  },
  "language_info": {
   "codemirror_mode": {
    "name": "ipython",
    "version": 3
   },
   "file_extension": ".py",
   "mimetype": "text/x-python",
   "name": "python",
   "nbconvert_exporter": "python",
   "pygments_lexer": "ipython3",
   "version": "3.9.19"
  }
 },
 "nbformat": 4,
 "nbformat_minor": 5
}
